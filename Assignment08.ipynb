{
 "cells": [
  {
   "cell_type": "markdown",
   "id": "a2f775ce",
   "metadata": {},
   "source": [
    "### 1. Given a sentence as txt, return True if any two adjacent words have this property: One word ends with a vowel, while the word immediately after begins with a vowel (a e i o u).\n",
    "\n",
    "Examples\n",
    "\n",
    "vowel_links(\"a very large appliance\") ➞ True\n",
    "\n",
    "vowel_links(\"go to edabit\") ➞ True\n",
    "\n",
    "vowel_links(\"an open fire\") ➞ False\n",
    "\n",
    "vowel_links(\"a sudden applause\") ➞ False\n"
   ]
  },
  {
   "cell_type": "code",
   "execution_count": 10,
   "id": "97015802",
   "metadata": {},
   "outputs": [],
   "source": [
    "def vowel_links(string):\n",
    "    try:\n",
    "        list_of_words=string.split(' ')\n",
    "        print(list_of_words)\n",
    "        count=0\n",
    "        for i in range(len(list_of_words)-1):\n",
    "            if list_of_words[i][-1] in 'aeiou' and list_of_words[i+1][0] in 'aeiou':\n",
    "                count+=1\n",
    "        if count>0:\n",
    "            return True\n",
    "        else:\n",
    "            return False\n",
    "    except Exception as e:\n",
    "        print(\"Error msg\",e)"
   ]
  },
  {
   "cell_type": "code",
   "execution_count": 11,
   "id": "c3d889c3",
   "metadata": {},
   "outputs": [
    {
     "name": "stdout",
     "output_type": "stream",
     "text": [
      "['a', 'very', 'large', 'appliance']\n"
     ]
    },
    {
     "data": {
      "text/plain": [
       "True"
      ]
     },
     "execution_count": 11,
     "metadata": {},
     "output_type": "execute_result"
    }
   ],
   "source": [
    "vowel_links(\"a very large appliance\") #➞ True"
   ]
  },
  {
   "cell_type": "code",
   "execution_count": 12,
   "id": "abe6312a",
   "metadata": {},
   "outputs": [
    {
     "name": "stdout",
     "output_type": "stream",
     "text": [
      "['go', 'to', 'edabit']\n"
     ]
    },
    {
     "data": {
      "text/plain": [
       "True"
      ]
     },
     "execution_count": 12,
     "metadata": {},
     "output_type": "execute_result"
    }
   ],
   "source": [
    "vowel_links(\"go to edabit\") #➞ True"
   ]
  },
  {
   "cell_type": "code",
   "execution_count": 13,
   "id": "db54b522",
   "metadata": {},
   "outputs": [
    {
     "name": "stdout",
     "output_type": "stream",
     "text": [
      "['an', 'open', 'fire']\n"
     ]
    },
    {
     "data": {
      "text/plain": [
       "False"
      ]
     },
     "execution_count": 13,
     "metadata": {},
     "output_type": "execute_result"
    }
   ],
   "source": [
    "vowel_links(\"an open fire\") #➞ False"
   ]
  },
  {
   "cell_type": "code",
   "execution_count": 14,
   "id": "f1c70ed2",
   "metadata": {},
   "outputs": [
    {
     "name": "stdout",
     "output_type": "stream",
     "text": [
      "['a', 'sudden', 'applause']\n"
     ]
    },
    {
     "data": {
      "text/plain": [
       "False"
      ]
     },
     "execution_count": 14,
     "metadata": {},
     "output_type": "execute_result"
    }
   ],
   "source": [
    "vowel_links(\"a sudden applause\") #➞ False"
   ]
  },
  {
   "cell_type": "markdown",
   "id": "3183b447",
   "metadata": {},
   "source": [
    "### 2. You are given three inputs: a string, one letter, and a second letter.\n",
    "\n",
    "Write a function that returns True if every instance of the first letter occurs before every instance of the second letter.\n",
    "\n",
    "Examples\n",
    "\n",
    "first_before_second(\"a rabbit jumps joyfully\", \"a\", \"j\") ➞ True\n",
    "# Every instance of \"a\" occurs before every instance of \"j\".\n",
    "\n",
    "first_before_second(\"knaves knew about waterfalls\", \"k\", \"w\") ➞  True\n",
    "\n",
    "first_before_second(\"happy birthday\", \"a\", \"y\") ➞ False\n",
    "# The \"a\" in \"birthday\" occurs after the \"y\" in \"happy\".\n",
    "\n",
    "first_before_second(\"precarious kangaroos\", \"k\", \"a\") ➞ False\n"
   ]
  },
  {
   "cell_type": "code",
   "execution_count": 53,
   "id": "ed05b9e6",
   "metadata": {},
   "outputs": [],
   "source": [
    "def first_before_second(sentence,a,b):\n",
    "    try:\n",
    "        lst=sentence.split()\n",
    "        a_index=0\n",
    "        b_index=[]\n",
    "        for i in range(len(lst)):\n",
    "            for j in range(len(lst[i])):\n",
    "                if a==lst[i][j]:\n",
    "                    a_index=int(str(i)+str(j))\n",
    "                if b==lst[i][j]:\n",
    "                    b_index.append(int(str(i)+str(j)))\n",
    "                    \n",
    "        count=0\n",
    "        for i in b_index:\n",
    "            if i<a_index:\n",
    "                count+=1\n",
    "\n",
    "        if count==0:\n",
    "            return True\n",
    "        else:\n",
    "            return False\n",
    "    except Exception as e:\n",
    "        print(\"Error msg\",e)"
   ]
  },
  {
   "cell_type": "code",
   "execution_count": 54,
   "id": "7f10c8ef",
   "metadata": {},
   "outputs": [
    {
     "data": {
      "text/plain": [
       "True"
      ]
     },
     "execution_count": 54,
     "metadata": {},
     "output_type": "execute_result"
    }
   ],
   "source": [
    "first_before_second(\"a rabbit jumps joyfully\", \"a\", \"j\") #➞ True"
   ]
  },
  {
   "cell_type": "code",
   "execution_count": 55,
   "id": "51027f40",
   "metadata": {},
   "outputs": [
    {
     "data": {
      "text/plain": [
       "True"
      ]
     },
     "execution_count": 55,
     "metadata": {},
     "output_type": "execute_result"
    }
   ],
   "source": [
    "first_before_second(\"knaves knew about waterfalls\", \"k\", \"w\") #➞ True"
   ]
  },
  {
   "cell_type": "code",
   "execution_count": 56,
   "id": "2f5d53c2",
   "metadata": {},
   "outputs": [
    {
     "data": {
      "text/plain": [
       "False"
      ]
     },
     "execution_count": 56,
     "metadata": {},
     "output_type": "execute_result"
    }
   ],
   "source": [
    "first_before_second(\"happy birthday\", \"a\", \"y\") #➞ False"
   ]
  },
  {
   "cell_type": "markdown",
   "id": "91ffa09c",
   "metadata": {},
   "source": [
    "### 3. Create a function that returns the characters from a list or string r on odd or even positions, depending on the specifier s. The specifier will be \"odd\" for items on odd positions (1, 3, 5, ...) and \"even\" for items on even positions (2, 4, 6, ...).\n",
    "\n",
    "Examples\n",
    "\n",
    "char_at_pos([2, 4, 6, 8, 10], \"even\") ➞ [4, 8]\n",
    "# 4 & 8 occupy the 2nd & 4th positions\n",
    "\n",
    "char_at_pos(\"EDABIT\", \"odd\") ➞ \"EAI\"\n",
    "# \"E\", \"A\" and \"I\" occupy the 1st, 3rd and 5th positions\n",
    "\n",
    "char_at_pos([\"A\", \"R\", \"B\", \"I\", \"T\", \"R\", \"A\", \"R\", \"I\", \"L\", \"Y\"], \"odd\") ➞ [\"A\", \"B\", \"T\", \"A\", \"I\", \"Y\"]\n"
   ]
  },
  {
   "cell_type": "code",
   "execution_count": 67,
   "id": "c5dbaf91",
   "metadata": {},
   "outputs": [],
   "source": [
    "def char_at_pos(r,s):\n",
    "    try:\n",
    "        lst=[]\n",
    "        for i in range(len(r)):\n",
    "            if s=='even':\n",
    "                if i%2!=0:\n",
    "                    lst.append(r[i])\n",
    "            if s=='odd':\n",
    "                #lst[0]=i\n",
    "                if i%2==0:\n",
    "                    lst.append(r[i])\n",
    "        string=''\n",
    "        if type(r)==str:\n",
    "            for i in lst:\n",
    "                string+=i\n",
    "            return string\n",
    "        else:\n",
    "            return lst\n",
    "    except Exception as e:\n",
    "        print(\"Error msg\",e)"
   ]
  },
  {
   "cell_type": "code",
   "execution_count": 68,
   "id": "3c39e054",
   "metadata": {},
   "outputs": [
    {
     "data": {
      "text/plain": [
       "[4, 8]"
      ]
     },
     "execution_count": 68,
     "metadata": {},
     "output_type": "execute_result"
    }
   ],
   "source": [
    "char_at_pos([2, 4, 6, 8, 10], \"even\") #➞ [4, 8]"
   ]
  },
  {
   "cell_type": "code",
   "execution_count": 69,
   "id": "41453750",
   "metadata": {},
   "outputs": [
    {
     "data": {
      "text/plain": [
       "'EAI'"
      ]
     },
     "execution_count": 69,
     "metadata": {},
     "output_type": "execute_result"
    }
   ],
   "source": [
    "char_at_pos(\"EDABIT\", \"odd\") #➞ \"EAI\""
   ]
  },
  {
   "cell_type": "code",
   "execution_count": 70,
   "id": "2fc8a0e0",
   "metadata": {},
   "outputs": [
    {
     "data": {
      "text/plain": [
       "['A', 'B', 'T', 'A', 'I', 'Y']"
      ]
     },
     "execution_count": 70,
     "metadata": {},
     "output_type": "execute_result"
    }
   ],
   "source": [
    "char_at_pos([\"A\", \"R\", \"B\", \"I\", \"T\", \"R\", \"A\", \"R\", \"I\", \"L\", \"Y\"], \"odd\") #➞ [\"A\", \"B\", \"T\", \"A\", \"I\", \"Y\"]"
   ]
  },
  {
   "cell_type": "markdown",
   "id": "54335c1c",
   "metadata": {},
   "source": [
    "### 4. Write a function that returns the greatest common divisor of all list elements. If the greatest common divisor is 1, return 1.\n",
    "\n",
    "Examples\n",
    "\n",
    "GCD([10, 20, 40]) ➞ 10\n",
    "\n",
    "GCD([1, 2, 3, 100]) ➞ 1\n",
    "\n",
    "GCD([1024, 192, 2048, 512]) ➞ 64\n"
   ]
  },
  {
   "cell_type": "code",
   "execution_count": 75,
   "id": "c2d11290",
   "metadata": {},
   "outputs": [],
   "source": [
    "def GCD(lst):\n",
    "    try:\n",
    "        lst=sorted(lst)\n",
    "        gcd=[]\n",
    "        \n",
    "        for i in range(1,lst[0]+1):\n",
    "            count=0\n",
    "            for j in lst:\n",
    "                if j%i==0:\n",
    "                    count+=1\n",
    "            if count==len(lst):\n",
    "                gcd.append(i)\n",
    "        return gcd[-1]\n",
    "    except Exception as e:\n",
    "        print(\"Error msg\",e)"
   ]
  },
  {
   "cell_type": "code",
   "execution_count": 76,
   "id": "cefd698f",
   "metadata": {},
   "outputs": [
    {
     "data": {
      "text/plain": [
       "10"
      ]
     },
     "execution_count": 76,
     "metadata": {},
     "output_type": "execute_result"
    }
   ],
   "source": [
    "GCD([10, 20, 40]) #➞ 10"
   ]
  },
  {
   "cell_type": "code",
   "execution_count": 77,
   "id": "35bf89d2",
   "metadata": {},
   "outputs": [
    {
     "data": {
      "text/plain": [
       "1"
      ]
     },
     "execution_count": 77,
     "metadata": {},
     "output_type": "execute_result"
    }
   ],
   "source": [
    "GCD([1, 2, 3, 100]) #➞ 1"
   ]
  },
  {
   "cell_type": "code",
   "execution_count": 78,
   "id": "5a7d5c32",
   "metadata": {},
   "outputs": [
    {
     "data": {
      "text/plain": [
       "64"
      ]
     },
     "execution_count": 78,
     "metadata": {},
     "output_type": "execute_result"
    }
   ],
   "source": [
    "GCD([1024, 192, 2048, 512]) #➞ 64"
   ]
  },
  {
   "cell_type": "markdown",
   "id": "6dccbdeb",
   "metadata": {},
   "source": [
    "### 5. A number/string is a palindrome if the digits/characters are the same when read both forward and backward. Examples include \"racecar\" and 12321. Given a positive number n, check if n or the binary representation of n is palindromic. Return the following:\n",
    "\n",
    "- \"Decimal only.\" if only n is a palindrome.\n",
    "- \"Binary only.\" if only the binary representation of n is a palindrome.\n",
    "- \"Decimal and binary.\" if both are palindromes.\n",
    "- \"Neither!\" if neither are palindromes.\n",
    "\n",
    "Examples\n",
    "\n",
    "palindrome_type(1306031) ➞ \"Decimal only.\"\n",
    "# decimal = 1306031\n",
    "# binary  = \"100111110110110101111\"\n",
    "\n",
    "palindrome_type(427787) ➞ \"Binary only.\"\n",
    "# decimal = 427787\n",
    "# binary  = \"1101000011100001011\"\n",
    "\n",
    "palindrome_type(313) ➞ \"Decimal and binary.\"\n",
    "# decimal = 313\n",
    "# binary  = 100111001\n",
    "\n",
    "palindrome_type(934) ➞ \"Neither!\"\n",
    "# decimal = 934\n",
    "# binary  = \"1110100110\"\n"
   ]
  },
  {
   "cell_type": "code",
   "execution_count": 20,
   "id": "5c16dcba",
   "metadata": {},
   "outputs": [],
   "source": [
    "def palindrome_type(n):\n",
    "    try:\n",
    "        temp=n\n",
    "        lst_n=[]\n",
    "        while n>0:\n",
    "            if n!=0:\n",
    "                lst_n.append(n%10)\n",
    "                n//=10\n",
    "        lst_n= lst_n[::-1]\n",
    "        \n",
    "        binary_n=[]\n",
    "        n=temp\n",
    "        while n>0:\n",
    "            if n!=0:\n",
    "                binary_n.append(n%2)\n",
    "                n//=2\n",
    "        binary_n=binary_n[::-1]\n",
    "        \n",
    "        count_n=0\n",
    "        for i in range(len(lst_n)):\n",
    "            if lst_n[i]==lst_n[len(lst_n)-1-i]:\n",
    "                count_n+=1\n",
    "        dec=''\n",
    "        if count_n==len(lst_n):\n",
    "            dec='yes'\n",
    "        else:\n",
    "            dec='no'\n",
    "        \n",
    "        count_b=0\n",
    "        for i in range(len(binary_n)):\n",
    "            if binary_n[i]==binary_n[len(binary_n)-1-i]:\n",
    "                count_b+=1\n",
    "         \n",
    "        binary=''\n",
    "        if count_b==len(binary_n):\n",
    "            binary='yes'\n",
    "        else:\n",
    "            binary='no'\n",
    "        \n",
    "        if binary=='yes' and dec=='yes':\n",
    "            return \"Decimal and binary,\"\n",
    "        elif binary=='yes' and dec=='no':\n",
    "            return \"Binary only.\"\n",
    "        elif binary=='no' and dec=='yes':\n",
    "            return \"Decimal only.\"\n",
    "        else:\n",
    "            return \"Neither\"\n",
    "        \n",
    "    except Exception as e:\n",
    "        print(\"Error msg\",e)"
   ]
  },
  {
   "cell_type": "code",
   "execution_count": 21,
   "id": "0b8ea08d",
   "metadata": {},
   "outputs": [
    {
     "data": {
      "text/plain": [
       "'Decimal only.'"
      ]
     },
     "execution_count": 21,
     "metadata": {},
     "output_type": "execute_result"
    }
   ],
   "source": [
    "palindrome_type(1306031)"
   ]
  },
  {
   "cell_type": "code",
   "execution_count": 22,
   "id": "f358abf5",
   "metadata": {},
   "outputs": [
    {
     "data": {
      "text/plain": [
       "'Binary only.'"
      ]
     },
     "execution_count": 22,
     "metadata": {},
     "output_type": "execute_result"
    }
   ],
   "source": [
    "palindrome_type(427787) #➞ \"Binary only.\""
   ]
  },
  {
   "cell_type": "code",
   "execution_count": 23,
   "id": "b36ceb06",
   "metadata": {},
   "outputs": [
    {
     "data": {
      "text/plain": [
       "'Decimal and binary,'"
      ]
     },
     "execution_count": 23,
     "metadata": {},
     "output_type": "execute_result"
    }
   ],
   "source": [
    "palindrome_type(313) #➞ \"Decimal and binary.\""
   ]
  },
  {
   "cell_type": "code",
   "execution_count": 24,
   "id": "93c1cd92",
   "metadata": {},
   "outputs": [
    {
     "data": {
      "text/plain": [
       "'Neither'"
      ]
     },
     "execution_count": 24,
     "metadata": {},
     "output_type": "execute_result"
    }
   ],
   "source": [
    "palindrome_type(934) #➞ \"Neither!\""
   ]
  }
 ],
 "metadata": {
  "kernelspec": {
   "display_name": "Python 3 (ipykernel)",
   "language": "python",
   "name": "python3"
  },
  "language_info": {
   "codemirror_mode": {
    "name": "ipython",
    "version": 3
   },
   "file_extension": ".py",
   "mimetype": "text/x-python",
   "name": "python",
   "nbconvert_exporter": "python",
   "pygments_lexer": "ipython3",
   "version": "3.9.7"
  }
 },
 "nbformat": 4,
 "nbformat_minor": 5
}
