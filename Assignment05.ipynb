{
 "cells": [
  {
   "cell_type": "markdown",
   "id": "1c16f13d",
   "metadata": {},
   "source": [
    "### 1. Create a function that takes a number n (integer greater than zero) as an argument, and returns 2 if n is odd and 8 if n is even.\n",
    "\n",
    "You can only use the following arithmetic operators: addition of numbers +, subtraction of numbers -, multiplication of number *, division of number /, and exponentiation **.\n",
    "\n",
    "You are not allowed to use any other methods in this challenge (i.e. no if statements, comparison operators, etc).\n",
    "\n",
    "Examples\n",
    "\n",
    "f(1) ➞ 2\n",
    "\n",
    "f(2) ➞ 8\n",
    "\n",
    "f(3) ➞ 2\n"
   ]
  },
  {
   "cell_type": "code",
   "execution_count": 1,
   "id": "3a9ddece",
   "metadata": {},
   "outputs": [],
   "source": [
    "def f(n):\n",
    "    try:\n",
    "        if n%2==0:\n",
    "            return 8\n",
    "        else:\n",
    "            return 2\n",
    "    except Exception as e:\n",
    "        print(\"Error msg:\",e)"
   ]
  },
  {
   "cell_type": "code",
   "execution_count": 3,
   "id": "ddb38d19",
   "metadata": {},
   "outputs": [
    {
     "data": {
      "text/plain": [
       "2"
      ]
     },
     "execution_count": 3,
     "metadata": {},
     "output_type": "execute_result"
    }
   ],
   "source": [
    "f(1) #➞ 2"
   ]
  },
  {
   "cell_type": "code",
   "execution_count": 4,
   "id": "9c8ab026",
   "metadata": {},
   "outputs": [
    {
     "data": {
      "text/plain": [
       "8"
      ]
     },
     "execution_count": 4,
     "metadata": {},
     "output_type": "execute_result"
    }
   ],
   "source": [
    "f(2) #➞ 8"
   ]
  },
  {
   "cell_type": "code",
   "execution_count": 5,
   "id": "8e19b78a",
   "metadata": {},
   "outputs": [
    {
     "data": {
      "text/plain": [
       "2"
      ]
     },
     "execution_count": 5,
     "metadata": {},
     "output_type": "execute_result"
    }
   ],
   "source": [
    "f(3) #➞ 2"
   ]
  },
  {
   "cell_type": "markdown",
   "id": "da15a26e",
   "metadata": {},
   "source": [
    "### 2. Create a function that returns the majority vote in a list. A majority vote is an element that occurs > N/2 times in a list (where N is the length of the list).\n",
    "\n",
    "Examples\n",
    "\n",
    "majority_vote([\"A\", \"A\", \"B\"]) ➞ \"A\"\n",
    "\n",
    "majority_vote([\"A\", \"A\", \"A\", \"B\", \"C\", \"A\"]) ➞ \"A\"\n",
    "\n",
    "majority_vote([\"A\", \"B\", \"B\", \"A\", \"C\", \"C\"]) ➞ None\n"
   ]
  },
  {
   "cell_type": "code",
   "execution_count": 36,
   "id": "3a70c901",
   "metadata": {},
   "outputs": [],
   "source": [
    "def majority_vote(lst):\n",
    "    try:\n",
    "        dct={}\n",
    "        for i in lst:\n",
    "            dct[i]=lst.count(i)\n",
    "        \n",
    "        vote=0\n",
    "        for i in dct:\n",
    "            if dct[i]>vote:\n",
    "                vote=dct[i]\n",
    "                winner=i\n",
    "                \n",
    "        for i in dct:\n",
    "            if i==winner:\n",
    "                pass\n",
    "            else:\n",
    "                if dct[winner]==dct[i]:\n",
    "                    return 'None'\n",
    "            \n",
    "        return winner\n",
    "    except Exception as e:\n",
    "        print(\"Error msg:\",e)"
   ]
  },
  {
   "cell_type": "code",
   "execution_count": 37,
   "id": "331a9a6c",
   "metadata": {},
   "outputs": [
    {
     "data": {
      "text/plain": [
       "'A'"
      ]
     },
     "execution_count": 37,
     "metadata": {},
     "output_type": "execute_result"
    }
   ],
   "source": [
    "majority_vote([\"A\", \"A\", \"B\"]) #➞ \"A\""
   ]
  },
  {
   "cell_type": "code",
   "execution_count": 38,
   "id": "981dc9b3",
   "metadata": {},
   "outputs": [
    {
     "data": {
      "text/plain": [
       "'A'"
      ]
     },
     "execution_count": 38,
     "metadata": {},
     "output_type": "execute_result"
    }
   ],
   "source": [
    "majority_vote([\"A\", \"A\", \"A\", \"B\", \"C\", \"C\",\"A\"]) #➞ \"A\""
   ]
  },
  {
   "cell_type": "code",
   "execution_count": 39,
   "id": "54cb8ad1",
   "metadata": {},
   "outputs": [
    {
     "data": {
      "text/plain": [
       "'None'"
      ]
     },
     "execution_count": 39,
     "metadata": {},
     "output_type": "execute_result"
    }
   ],
   "source": [
    "majority_vote([\"A\", \"B\", \"B\", \"A\", \"C\", \"C\"]) #➞ None"
   ]
  },
  {
   "cell_type": "markdown",
   "id": "2a657f2b",
   "metadata": {},
   "source": [
    "### 3. Create a function that takes a string txt and censors any word from a given list lst. The text removed must be replaced by the given character char.\n",
    "\n",
    "Examples\n",
    "\n",
    "censor_string(\"Today is a Wednesday!\", [\"Today\", \"a\"], \"-\") ➞ \"----- is - Wednesday!\"\n",
    "\n",
    "censor_string(\"The cow jumped over the moon.\", [\"cow\", \"over\"], \"*\"), \"The *** jumped **** the moon.\")\n",
    "\n",
    "censor_string(\"Why did the chicken cross the road?\", [\"Did\", \"chicken\", \"road\"], \"*\") ➞ \"Why *** the ******* cross the ****?\"\n"
   ]
  },
  {
   "cell_type": "code",
   "execution_count": 50,
   "id": "62a47fdc",
   "metadata": {},
   "outputs": [],
   "source": [
    "def censor_string(sentence,lst,char):\n",
    "    try:\n",
    "        list_of_sentence=sentence.split(' ')\n",
    "        \n",
    "        new_lst=[]\n",
    "        for i in lst:\n",
    "            new_string=''\n",
    "            for j in range(len(i)):\n",
    "                new_string+=char\n",
    "            new_lst.append(new_string)\n",
    "        \n",
    "        for i in range(len(list_of_sentence)):\n",
    "            for j in range(len(lst)):\n",
    "                if lst[j]==list_of_sentence[i]:\n",
    "                    list_of_sentence[i]=new_lst[j]\n",
    "                    \n",
    "        final_string=''\n",
    "        for i in list_of_sentence:\n",
    "            final_string+=i+' '\n",
    "        return final_string\n",
    "    except Exception as e:\n",
    "        print(\"Error msg:\",e)"
   ]
  },
  {
   "cell_type": "code",
   "execution_count": 51,
   "id": "642ae5dd",
   "metadata": {},
   "outputs": [
    {
     "data": {
      "text/plain": [
       "'----- is - Wednesday! '"
      ]
     },
     "execution_count": 51,
     "metadata": {},
     "output_type": "execute_result"
    }
   ],
   "source": [
    "censor_string(\"Today is a Wednesday!\", [\"Today\", \"a\"], \"-\") #➞ \"----- is - Wednesday!\""
   ]
  },
  {
   "cell_type": "code",
   "execution_count": 52,
   "id": "9763b6e0",
   "metadata": {},
   "outputs": [
    {
     "data": {
      "text/plain": [
       "'The *** jumped **** the moon. '"
      ]
     },
     "execution_count": 52,
     "metadata": {},
     "output_type": "execute_result"
    }
   ],
   "source": [
    "censor_string(\"The cow jumped over the moon.\", [\"cow\", \"over\"], \"*\") #\"The *** jumped **** the moon.\")"
   ]
  },
  {
   "cell_type": "code",
   "execution_count": 54,
   "id": "c65f3675",
   "metadata": {},
   "outputs": [
    {
     "data": {
      "text/plain": [
       "'Why *** the ******* cross the road? '"
      ]
     },
     "execution_count": 54,
     "metadata": {},
     "output_type": "execute_result"
    }
   ],
   "source": [
    "censor_string(\"Why did the chicken cross the road?\", [\"did\", \"chicken\", \"road\"], \"*\") #➞ \"Why *** the ******* cross the ****?\""
   ]
  },
  {
   "cell_type": "markdown",
   "id": "e681293a",
   "metadata": {},
   "source": [
    "### 4. In mathematics a Polydivisible Number (or magic number) is a number in a given number base with digits abcde... that has the following properties:\n",
    "\n",
    "-  Its first digit a is not 0.\n",
    "- The number formed by its first two digits ab is a multiple of 2.\n",
    "- The number formed by its first three digits abc is a multiple of 3.\n",
    "- The number formed by its first four digits abcd is a multiple of 4.\n",
    "\n",
    "Create a function which takes an integer n and returns True if the given number is a Polydivisible Number and False otherwise.\n",
    "\n",
    "Examples\n",
    "\n",
    "is_polydivisible(1232) ➞ True\n",
    "# 1     / 1 = 1\n",
    "# 12    / 2 = 6\n",
    "# 123   / 3 = 41\n",
    "# 1232  / 4 = 308\n",
    "\n",
    "is_polydivisible(123220 ) ➞ False\n",
    "# 1   / 1 = 1\n",
    "# 12   / 2 = 6\n",
    "# 123   / 3 = 41\n",
    "# 1232   / 4 = 308\n",
    "# 12322   / 5 = 2464.4         # Not a Whole Number\n",
    "# 123220   /6 = 220536.333...  # Not a Whole Number\n"
   ]
  },
  {
   "cell_type": "code",
   "execution_count": 121,
   "id": "b8b7898b",
   "metadata": {},
   "outputs": [],
   "source": [
    "def is_polydivisible(n):\n",
    "    try:\n",
    "        temp=n\n",
    "        count=0\n",
    "        while n>0:\n",
    "            n//=10\n",
    "            count+=1\n",
    "        \n",
    "        for i in range(1,count):\n",
    "            if (temp//10**(count-i))/(i)!=int((temp//10**(count-i))/(i)):\n",
    "                return False\n",
    "        return True\n",
    "    except Exception as e:\n",
    "        print(\"Error msg:\",e)"
   ]
  },
  {
   "cell_type": "code",
   "execution_count": 122,
   "id": "bd13d5ff",
   "metadata": {},
   "outputs": [
    {
     "data": {
      "text/plain": [
       "True"
      ]
     },
     "execution_count": 122,
     "metadata": {},
     "output_type": "execute_result"
    }
   ],
   "source": [
    "is_polydivisible(1232) #➞ True"
   ]
  },
  {
   "cell_type": "code",
   "execution_count": 123,
   "id": "b7af084c",
   "metadata": {},
   "outputs": [
    {
     "data": {
      "text/plain": [
       "False"
      ]
     },
     "execution_count": 123,
     "metadata": {},
     "output_type": "execute_result"
    }
   ],
   "source": [
    "is_polydivisible(123220) #➞ False"
   ]
  },
  {
   "cell_type": "markdown",
   "id": "13394a7c",
   "metadata": {},
   "source": [
    "### 5. Create a function that takes a list of numbers and returns the sum of all prime numbers in the list.\n",
    "\n",
    "Examples\n",
    "\n",
    "sum_primes([1, 2, 3, 4, 5, 6, 7, 8, 9, 10]) ➞ 17\n",
    "\n",
    "sum_primes([2, 3, 4, 11, 20, 50, 71]) ➞ 87\n",
    "\n",
    "sum_primes([]) ➞ None\n"
   ]
  },
  {
   "cell_type": "code",
   "execution_count": 147,
   "id": "96007c40",
   "metadata": {},
   "outputs": [],
   "source": [
    "def sum_primes(lst):\n",
    "    try:\n",
    "        new_lst=[]\n",
    "        for i in lst:\n",
    "            count=0\n",
    "            for j in range(1,i):\n",
    "                if i%j==0:\n",
    "                    count+=1\n",
    "                else:\n",
    "                    pass\n",
    "            if count==1:\n",
    "                new_lst.append(i)\n",
    "        if len(new_lst)==0:\n",
    "            return 'None'\n",
    "        else:\n",
    "            return sum(new_lst)\n",
    "    except Exception as e:\n",
    "        print(\"Error msg:\",e)"
   ]
  },
  {
   "cell_type": "code",
   "execution_count": 148,
   "id": "e10b5789",
   "metadata": {},
   "outputs": [
    {
     "data": {
      "text/plain": [
       "17"
      ]
     },
     "execution_count": 148,
     "metadata": {},
     "output_type": "execute_result"
    }
   ],
   "source": [
    "sum_primes([1, 2, 3, 4, 5, 6, 7, 8, 9, 10]) #➞ 17"
   ]
  },
  {
   "cell_type": "code",
   "execution_count": 149,
   "id": "bd9e55b0",
   "metadata": {},
   "outputs": [
    {
     "data": {
      "text/plain": [
       "87"
      ]
     },
     "execution_count": 149,
     "metadata": {},
     "output_type": "execute_result"
    }
   ],
   "source": [
    "sum_primes([2, 3, 4, 11, 20, 50, 71]) #➞ 87"
   ]
  },
  {
   "cell_type": "code",
   "execution_count": 150,
   "id": "f05923bb",
   "metadata": {},
   "outputs": [
    {
     "data": {
      "text/plain": [
       "'None'"
      ]
     },
     "execution_count": 150,
     "metadata": {},
     "output_type": "execute_result"
    }
   ],
   "source": [
    "sum_primes([]) #➞ None"
   ]
  },
  {
   "cell_type": "code",
   "execution_count": null,
   "id": "bf5e5aa7",
   "metadata": {},
   "outputs": [],
   "source": []
  }
 ],
 "metadata": {
  "kernelspec": {
   "display_name": "Python 3 (ipykernel)",
   "language": "python",
   "name": "python3"
  },
  "language_info": {
   "codemirror_mode": {
    "name": "ipython",
    "version": 3
   },
   "file_extension": ".py",
   "mimetype": "text/x-python",
   "name": "python",
   "nbconvert_exporter": "python",
   "pygments_lexer": "ipython3",
   "version": "3.9.7"
  }
 },
 "nbformat": 4,
 "nbformat_minor": 5
}
