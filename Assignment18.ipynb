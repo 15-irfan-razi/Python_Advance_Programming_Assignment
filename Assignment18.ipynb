{
 "cells": [
  {
   "cell_type": "markdown",
   "id": "866d912d",
   "metadata": {},
   "source": [
    "### 1. A robot has been given a list of movement instructions. Each instruction is either left, right, up or down, followed by a distance to move. The robot starts at [0, 0]. You want to calculate where the robot will end up and return its final position as a list.\n",
    "\n",
    "To illustrate, if the robot is given the following instructions:\n",
    "\n",
    "[\"right 10\", \"up 50\", \"left 30\", \"down 10\"]\n",
    "\n",
    "It will end up 20 left and 40 up from where it started, so we return [-20, 40].\n",
    "\n",
    "Examples\n",
    "\n",
    "track_robot([\"right 10\", \"up 50\", \"left 30\", \"down 10\"]) ➞ [-20, 40]\n",
    "\n",
    "track_robot([]) ➞ [0, 0]\n",
    "// If there are no instructions, the robot doesn't move.\n",
    "\n",
    "track_robot([\"right 100\", \"right 100\", \"up 500\", \"up 10000\"]) ➞ [200, 10500]\n"
   ]
  },
  {
   "cell_type": "code",
   "execution_count": 5,
   "id": "71143352",
   "metadata": {},
   "outputs": [],
   "source": [
    "def track_robot(lst):\n",
    "    pos=[0,0]\n",
    "    \n",
    "    new_lst=[]\n",
    "    for i in lst:\n",
    "        new_lst.append(i.split(' '))\n",
    "        \n",
    "    for i in new_lst:\n",
    "        if i[0]=='right':\n",
    "            pos[0]+=int(i[1])\n",
    "        elif i[0]=='left':\n",
    "            pos[0]-=int(i[1])\n",
    "        elif i[0]=='up':\n",
    "            pos[1]+=int(i[1])\n",
    "        else:\n",
    "            pos[1]-=int(i[1])\n",
    "    return pos"
   ]
  },
  {
   "cell_type": "code",
   "execution_count": 6,
   "id": "c2835b25",
   "metadata": {},
   "outputs": [
    {
     "data": {
      "text/plain": [
       "[-20, 40]"
      ]
     },
     "execution_count": 6,
     "metadata": {},
     "output_type": "execute_result"
    }
   ],
   "source": [
    "track_robot([\"right 10\", \"up 50\", \"left 30\", \"down 10\"]) #➞ [-20, 40]"
   ]
  },
  {
   "cell_type": "code",
   "execution_count": 7,
   "id": "036db1c6",
   "metadata": {},
   "outputs": [
    {
     "data": {
      "text/plain": [
       "[0, 0]"
      ]
     },
     "execution_count": 7,
     "metadata": {},
     "output_type": "execute_result"
    }
   ],
   "source": [
    "track_robot([]) #➞ [0, 0] // If there are no instructions, the robot doesn't move."
   ]
  },
  {
   "cell_type": "code",
   "execution_count": 8,
   "id": "b9f5c2c8",
   "metadata": {},
   "outputs": [
    {
     "data": {
      "text/plain": [
       "[200, 10500]"
      ]
     },
     "execution_count": 8,
     "metadata": {},
     "output_type": "execute_result"
    }
   ],
   "source": [
    "track_robot([\"right 100\", \"right 100\", \"up 500\", \"up 10000\"]) #➞ [200, 10500]"
   ]
  },
  {
   "cell_type": "markdown",
   "id": "0300041b",
   "metadata": {},
   "source": [
    "### 2. Write a function that will return the longest word in a sentence. In cases where more than one word is found, return the first one.\n",
    "\n",
    "Examples\n",
    "\n",
    "find_longest(\"A thing of beauty is a joy forever.\") ➞ \"forever\"\n",
    "\n",
    "find_longest(\"Forgetfulness is by all means powerless!\") ➞ \"forgetfulness\"\n",
    "\n",
    "find_longest(\"\\\"Strengths\\\" is the longest and most commonly used word that contains only a single vowel.\") ➞ \"strengths\"\n"
   ]
  },
  {
   "cell_type": "code",
   "execution_count": 23,
   "id": "da514a4a",
   "metadata": {},
   "outputs": [],
   "source": [
    "def find_longest(string):\n",
    "    last=string[-1]\n",
    "    temp=string.split(last)\n",
    "    lst=temp[0].split(' ')\n",
    "    \n",
    "    longest=lst[0]\n",
    "    \n",
    "    for i in range(len(lst)):\n",
    "        if len(lst[i])>len(longest):\n",
    "            longest=lst[i]\n",
    "    return longest.lower()"
   ]
  },
  {
   "cell_type": "code",
   "execution_count": 24,
   "id": "b997e4d9",
   "metadata": {},
   "outputs": [
    {
     "data": {
      "text/plain": [
       "'forever'"
      ]
     },
     "execution_count": 24,
     "metadata": {},
     "output_type": "execute_result"
    }
   ],
   "source": [
    "find_longest(\"A thing of beauty is a joy forever.\") #➞ \"forever\""
   ]
  },
  {
   "cell_type": "code",
   "execution_count": 25,
   "id": "1eeb9b87",
   "metadata": {},
   "outputs": [
    {
     "data": {
      "text/plain": [
       "'forgetfulness'"
      ]
     },
     "execution_count": 25,
     "metadata": {},
     "output_type": "execute_result"
    }
   ],
   "source": [
    "find_longest(\"Forgetfulness is by all means powerless!\") #➞ \"forgetfulness\""
   ]
  },
  {
   "cell_type": "code",
   "execution_count": 27,
   "id": "83e41cf9",
   "metadata": {},
   "outputs": [
    {
     "data": {
      "text/plain": [
       "'\"strengths\"'"
      ]
     },
     "execution_count": 27,
     "metadata": {},
     "output_type": "execute_result"
    }
   ],
   "source": [
    "find_longest(\"\\\"Strengths\\\" is the longest and most commonly used word that contains only a single vowel.\") #➞ \"strengths\""
   ]
  },
  {
   "cell_type": "markdown",
   "id": "6295ff31",
   "metadata": {},
   "source": [
    "### 3. Create a function to check if a candidate is qualified in an imaginary coding interview of an imaginary tech startup.\n",
    "\n",
    "The criteria for a candidate to be qualified in the coding interview is:\n",
    "\n",
    "   1. The candidate should have complete all the questions.\n",
    "   2. The maximum time given to complete the interview is 120 minutes.\n",
    "   3. The maximum time given for very easy questions is 5 minutes each.\n",
    "   4. The maximum time given for easy questions is 10 minutes each.\n",
    "   5. The maximum time given for medium questions is 15 minutes each.\n",
    "   6. The maximum time given for hard questions is 20 minutes each.\n",
    "\n",
    "If all the above conditions are satisfied, return \"qualified\", else return \"disqualified\".\n",
    "\n",
    "You will be given a list of time taken by a candidate to solve a particular question and the total time taken by the candidate to complete the interview.\n",
    "\n",
    "Given a list , in a true condition will always be in the format [very easy, very easy, easy, easy, medium, medium, hard, hard].\n",
    "\n",
    "The maximum time to complete the interview includes a buffer time of 20 minutes.\n",
    "\n",
    "Examples\n",
    "\n",
    "interview([5, 5, 10, 10, 15, 15, 20, 20], 120) ➞ \"qualified\"\n",
    "\n",
    "interview([2, 3, 8, 6, 5, 12, 10, 18], 64) ➞  \"qualified\"\n",
    "\n",
    "interview([5, 5, 10, 10, 25, 15, 20, 20], 120) ➞ \"disqualified\"\n",
    "# Exceeded the time limit for a medium question.\n",
    "\n",
    "interview([5, 5, 10, 10, 15, 15, 20], 120) ➞ \"disqualified\"\n",
    "# Did not complete all the questions.\n",
    "\n",
    "interview([5, 5, 10, 10, 15, 15, 20, 20], 130) ➞ \"disqualified\"\n",
    "# Solved all the questions in their respected time limits but exceeded the total time limit of the interview.\n"
   ]
  },
  {
   "cell_type": "code",
   "execution_count": 28,
   "id": "8dddb052",
   "metadata": {},
   "outputs": [],
   "source": [
    "def interview(lst, num):\n",
    "    qualify=[5,5,10,10,15,15,20,20]\n",
    "    check=0\n",
    "    if len(lst)==8 and num<=120:\n",
    "        check+=1\n",
    "        for i in range(len(lst)):\n",
    "            if lst[i]<=qualify[i]:\n",
    "                check+=1\n",
    "                \n",
    "    if check==9:\n",
    "        return 'qualified'\n",
    "    else:\n",
    "        return 'disqualified'"
   ]
  },
  {
   "cell_type": "code",
   "execution_count": 29,
   "id": "0843ff19",
   "metadata": {},
   "outputs": [
    {
     "data": {
      "text/plain": [
       "'qualified'"
      ]
     },
     "execution_count": 29,
     "metadata": {},
     "output_type": "execute_result"
    }
   ],
   "source": [
    "interview([5, 5, 10, 10, 15, 15, 20, 20], 120) #➞ \"qualified\""
   ]
  },
  {
   "cell_type": "code",
   "execution_count": 30,
   "id": "eed27e7b",
   "metadata": {},
   "outputs": [
    {
     "data": {
      "text/plain": [
       "'qualified'"
      ]
     },
     "execution_count": 30,
     "metadata": {},
     "output_type": "execute_result"
    }
   ],
   "source": [
    "interview([2, 3, 8, 6, 5, 12, 10, 18], 64) #➞ \"qualified\""
   ]
  },
  {
   "cell_type": "code",
   "execution_count": 31,
   "id": "fb4f9483",
   "metadata": {},
   "outputs": [
    {
     "data": {
      "text/plain": [
       "'disqualified'"
      ]
     },
     "execution_count": 31,
     "metadata": {},
     "output_type": "execute_result"
    }
   ],
   "source": [
    "interview([5, 5, 10, 10, 25, 15, 20, 20], 120) #➞ \"disqualified\""
   ]
  },
  {
   "cell_type": "code",
   "execution_count": 32,
   "id": "53e248e1",
   "metadata": {},
   "outputs": [
    {
     "data": {
      "text/plain": [
       "'disqualified'"
      ]
     },
     "execution_count": 32,
     "metadata": {},
     "output_type": "execute_result"
    }
   ],
   "source": [
    "interview([5, 5, 10, 10, 15, 15, 20], 120) #➞ \"disqualified\""
   ]
  },
  {
   "cell_type": "code",
   "execution_count": 33,
   "id": "c70ae0b3",
   "metadata": {},
   "outputs": [
    {
     "data": {
      "text/plain": [
       "'disqualified'"
      ]
     },
     "execution_count": 33,
     "metadata": {},
     "output_type": "execute_result"
    }
   ],
   "source": [
    "interview([5, 5, 10, 10, 15, 15, 20, 20], 130) #➞ \"disqualified\""
   ]
  },
  {
   "cell_type": "markdown",
   "id": "ce173496",
   "metadata": {},
   "source": [
    "### 4. Write a function that divides a list into chunks of size n, where n is the length of each chunk.\n",
    "\n",
    "Examples\n",
    "\n",
    "chunkify([2, 3, 4, 5], 2) ➞ [[2, 3], [4, 5]]\n",
    "\n",
    "chunkify([2, 3, 4, 5, 6], 2) ➞ [[2, 3], [4, 5], [6]]\n",
    "\n",
    "chunkify([2, 3, 4, 5, 6, 7], 3) ➞ [[2, 3, 4], [5, 6, 7]]\n",
    "\n",
    "chunkify([2, 3, 4, 5, 6, 7], 1) ➞ [[2], [3], [4], [5], [6], [7]]\n",
    "\n",
    "chunkify([2, 3, 4, 5, 6, 7], 7) ➞ [[2, 3, 4, 5, 6, 7]]\n"
   ]
  },
  {
   "cell_type": "code",
   "execution_count": 49,
   "id": "f95d23d8",
   "metadata": {},
   "outputs": [],
   "source": [
    "def chunkify(lst,n):\n",
    "    final=[]\n",
    "    length=0\n",
    "    if len(lst)%n==0:\n",
    "        length=len(lst)//n\n",
    "    else:\n",
    "        length=(len(lst)//n)+1\n",
    "        \n",
    "    for i in range(length):\n",
    "        temp=[]\n",
    "        for j in range(n):\n",
    "            try:\n",
    "                temp.append(lst[0])\n",
    "                lst.remove(lst[0])\n",
    "            except:\n",
    "                pass\n",
    "        final.append(temp)\n",
    "    return final"
   ]
  },
  {
   "cell_type": "code",
   "execution_count": 50,
   "id": "6060c002",
   "metadata": {},
   "outputs": [
    {
     "data": {
      "text/plain": [
       "[[2, 3], [4, 5]]"
      ]
     },
     "execution_count": 50,
     "metadata": {},
     "output_type": "execute_result"
    }
   ],
   "source": [
    "chunkify([2, 3, 4, 5], 2) #➞ [[2, 3], [4, 5]]"
   ]
  },
  {
   "cell_type": "code",
   "execution_count": 51,
   "id": "efce7f42",
   "metadata": {},
   "outputs": [
    {
     "data": {
      "text/plain": [
       "[[2, 3], [4, 5], [6]]"
      ]
     },
     "execution_count": 51,
     "metadata": {},
     "output_type": "execute_result"
    }
   ],
   "source": [
    "chunkify([2, 3, 4, 5, 6], 2) #➞ [[2, 3], [4, 5], [6]]"
   ]
  },
  {
   "cell_type": "code",
   "execution_count": 52,
   "id": "9a94cf44",
   "metadata": {},
   "outputs": [
    {
     "data": {
      "text/plain": [
       "[[2, 3, 4], [5, 6, 7]]"
      ]
     },
     "execution_count": 52,
     "metadata": {},
     "output_type": "execute_result"
    }
   ],
   "source": [
    "chunkify([2, 3, 4, 5, 6, 7], 3) #➞ [[2, 3, 4], [5, 6, 7]]"
   ]
  },
  {
   "cell_type": "code",
   "execution_count": 53,
   "id": "85916e9c",
   "metadata": {},
   "outputs": [
    {
     "data": {
      "text/plain": [
       "[[2], [3], [4], [5], [6], [7]]"
      ]
     },
     "execution_count": 53,
     "metadata": {},
     "output_type": "execute_result"
    }
   ],
   "source": [
    "chunkify([2, 3, 4, 5, 6, 7], 1) #➞ [[2], [3], [4], [5], [6], [7]]"
   ]
  },
  {
   "cell_type": "code",
   "execution_count": 54,
   "id": "cbc953f6",
   "metadata": {},
   "outputs": [
    {
     "data": {
      "text/plain": [
       "[[2, 3, 4, 5, 6, 7]]"
      ]
     },
     "execution_count": 54,
     "metadata": {},
     "output_type": "execute_result"
    }
   ],
   "source": [
    "chunkify([2, 3, 4, 5, 6, 7], 7) #➞ [[2, 3, 4, 5, 6, 7]]"
   ]
  },
  {
   "cell_type": "markdown",
   "id": "ec10aa8e",
   "metadata": {},
   "source": [
    "### 5. You are given a list of strings consisting of grocery items, with prices in parentheses. Return a list of prices in float format.\n",
    "\n",
    "Examples\n",
    "\n",
    "get_prices([\"salad ($4.99)\"]) ➞ [4.99]\n",
    "\n",
    "get_prices([\n",
    "  \"artichokes ($1.99)\",\n",
    "  \"rotiserrie chicken ($5.99)\",\n",
    "  \"gum ($0.75)\"\n",
    "])\n",
    "\n",
    "➞ [1.99, 5.99, 0.75]\n",
    "\n",
    "get_prices([\n",
    "  \"ice cream ($5.99)\",\n",
    "  \"banana ($0.20)\",\n",
    "  \"sandwich ($8.50)\",\n",
    "  \"soup ($1.99)\"\n",
    "])\n",
    "\n",
    "➞ [5.99, 0.2, 8.50, 1.99]\n"
   ]
  },
  {
   "cell_type": "code",
   "execution_count": 78,
   "id": "8b59a164",
   "metadata": {},
   "outputs": [],
   "source": [
    "def get_prices(lst):\n",
    "    price_list=[]\n",
    "    for i in lst:\n",
    "        pos=[]\n",
    "        price=0\n",
    "        for j in range(len(i)):\n",
    "            try:\n",
    "                if type(int(i[j]))==int:\n",
    "                    pos.append(j)\n",
    "            except:\n",
    "                pass\n",
    "        price=float(i[pos[0]:pos[-1]+1])\n",
    "        price_list.append(price)\n",
    "    return price_list"
   ]
  },
  {
   "cell_type": "code",
   "execution_count": 79,
   "id": "2292bf03",
   "metadata": {},
   "outputs": [
    {
     "data": {
      "text/plain": [
       "[4.99]"
      ]
     },
     "execution_count": 79,
     "metadata": {},
     "output_type": "execute_result"
    }
   ],
   "source": [
    "get_prices([\"salad ($4.99)\"]) #➞ [4.99]"
   ]
  },
  {
   "cell_type": "code",
   "execution_count": 80,
   "id": "b9872f30",
   "metadata": {},
   "outputs": [
    {
     "data": {
      "text/plain": [
       "[1.99, 5.99, 0.75]"
      ]
     },
     "execution_count": 80,
     "metadata": {},
     "output_type": "execute_result"
    }
   ],
   "source": [
    "get_prices([ \"artichokes ( 1.99)\",\"𝑟𝑜𝑡𝑖𝑠𝑒𝑟𝑟𝑖𝑒𝑐ℎ𝑖𝑐𝑘𝑒𝑛( 5.99)\", \"gum ($0.75)\" ]) #➞ [1.99, 5.99, 0.75]"
   ]
  },
  {
   "cell_type": "code",
   "execution_count": 81,
   "id": "667d56bb",
   "metadata": {},
   "outputs": [
    {
     "data": {
      "text/plain": [
       "[5.99, 0.2, 8.5, 1.99]"
      ]
     },
     "execution_count": 81,
     "metadata": {},
     "output_type": "execute_result"
    }
   ],
   "source": [
    "get_prices([ \"ice cream ( 5.99)\",\"𝑏𝑎𝑛𝑎𝑛𝑎( 0.20)\", \"sandwich ( 8.50)\",\"𝑠𝑜𝑢𝑝( 1.99)\" ]) #➞ [5.99, 0.2, 8.50, 1.99]"
   ]
  },
  {
   "cell_type": "code",
   "execution_count": null,
   "id": "a9c63e4a",
   "metadata": {},
   "outputs": [],
   "source": []
  }
 ],
 "metadata": {
  "kernelspec": {
   "display_name": "Python 3 (ipykernel)",
   "language": "python",
   "name": "python3"
  },
  "language_info": {
   "codemirror_mode": {
    "name": "ipython",
    "version": 3
   },
   "file_extension": ".py",
   "mimetype": "text/x-python",
   "name": "python",
   "nbconvert_exporter": "python",
   "pygments_lexer": "ipython3",
   "version": "3.9.7"
  }
 },
 "nbformat": 4,
 "nbformat_minor": 5
}
