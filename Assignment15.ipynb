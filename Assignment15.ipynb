{
 "cells": [
  {
   "cell_type": "markdown",
   "id": "a3173b08",
   "metadata": {},
   "source": [
    "### 1. Write a function that returns True if a given name can generate an array of words.\n",
    "\n",
    "Examples\n",
    "\n",
    "anagram(\"Justin Bieber\", [\"injures\", \"ebb\", \"it\"]) ➞ True\n",
    "\n",
    "anagram(\"Natalie Portman\", [\"ornamental\", \"pita\"]) ➞ True\n",
    "\n",
    "anagram(\"Chris Pratt\", [\"chirps\", \"rat\"]) ➞ False\n",
    "# Not all letters are used\n",
    "\n",
    "anagram(\"Jeff Goldblum\", [\"jog\", \"meld\", \"bluffs\"]) ➞ False\n",
    "# \"s\" does not exist in the original name\n"
   ]
  },
  {
   "cell_type": "code",
   "execution_count": 26,
   "id": "1f744539",
   "metadata": {},
   "outputs": [],
   "source": [
    "def anagram(string,lst):\n",
    "    \n",
    "    list_of_string=list(string.lower())\n",
    "    lst_string=list_of_string.copy()\n",
    "    \n",
    "    lst2=[]\n",
    "    for i in lst:\n",
    "        for j in i:\n",
    "            lst2.append(j)\n",
    "    \n",
    "    for i in lst2:\n",
    "        if i in list_of_string:\n",
    "            if i in lst_string:\n",
    "                lst_string.remove(i)\n",
    "        else:\n",
    "            return False\n",
    "    \n",
    "    if len(lst_string)>1:\n",
    "        return False\n",
    "    else:\n",
    "        return True"
   ]
  },
  {
   "cell_type": "code",
   "execution_count": 27,
   "id": "bfbe5b72",
   "metadata": {},
   "outputs": [
    {
     "data": {
      "text/plain": [
       "True"
      ]
     },
     "execution_count": 27,
     "metadata": {},
     "output_type": "execute_result"
    }
   ],
   "source": [
    "anagram(\"Justin Bieber\", [\"injures\", \"ebb\", \"it\"]) #➞ True"
   ]
  },
  {
   "cell_type": "code",
   "execution_count": 28,
   "id": "26c0acf3",
   "metadata": {},
   "outputs": [
    {
     "data": {
      "text/plain": [
       "True"
      ]
     },
     "execution_count": 28,
     "metadata": {},
     "output_type": "execute_result"
    }
   ],
   "source": [
    "anagram(\"Natalie Portman\", [\"ornamental\", \"pita\"]) #➞ True"
   ]
  },
  {
   "cell_type": "code",
   "execution_count": 29,
   "id": "cc45de8d",
   "metadata": {},
   "outputs": [
    {
     "data": {
      "text/plain": [
       "False"
      ]
     },
     "execution_count": 29,
     "metadata": {},
     "output_type": "execute_result"
    }
   ],
   "source": [
    "anagram(\"Chris Pratt\", [\"chirps\", \"rat\"]) #➞ False"
   ]
  },
  {
   "cell_type": "code",
   "execution_count": 30,
   "id": "62d0c724",
   "metadata": {},
   "outputs": [
    {
     "data": {
      "text/plain": [
       "False"
      ]
     },
     "execution_count": 30,
     "metadata": {},
     "output_type": "execute_result"
    }
   ],
   "source": [
    "anagram(\"Jeff Goldblum\", [\"jog\", \"meld\", \"bluffs\"]) #➞ False"
   ]
  },
  {
   "cell_type": "markdown",
   "id": "6f15896f",
   "metadata": {},
   "source": [
    "### 2. Given an array of users, each defined by an object with the following properties: name, score, reputation create a function that sorts the array to form the correct leaderboard.\n",
    "\n",
    "The leaderboard takes into consideration the score of each user of course, but an emphasis is put on their reputation in the community, so to get the trueScore, you should add the reputation multiplied by 2 to the score.\n",
    "\n",
    "Once you know the trueScore of each user, sort the array according to it in descending order.\n",
    "\n",
    "Examples\n",
    "\n",
    "leaderboards([\n",
    "  { \"name\": \"a\", \"score\": 100, \"reputation\": 20 },\n",
    "  { \"name\": \"b\", \"score\": 90, \"reputation\": 40 },\n",
    "  { \"name\": \"c\", \"score\": 115, \"reputation\": 30 },\n",
    "]) ➞ [\n",
    "  { \"name\": \"c\", \"score\": 115, \"reputation\": 30 },  # trueScore = 175\n",
    "  { \"name\": \"b\", \"score\": 90, \"reputation\": 40 },   # trueScore = 170\n",
    "  { \"name\": \"a\", \"score\": 100, \"reputation\": 20 }   # trueScore = 140\n",
    "]\n"
   ]
  },
  {
   "cell_type": "code",
   "execution_count": 78,
   "id": "95fd2f80",
   "metadata": {},
   "outputs": [],
   "source": [
    "def leaderboards(lst):\n",
    "    score=[]\n",
    "    for i in lst:\n",
    "        n,s,r='',0,0\n",
    "        for j in i:\n",
    "            if j=='name':\n",
    "                n=i[j]\n",
    "            if j=='score':\n",
    "                s=i[j]\n",
    "            if j=='reputation':\n",
    "                r=i[j]\n",
    "        score.append(((s+(2*r)),n))\n",
    "        \n",
    "    new_lst=[]\n",
    "    for i in score:\n",
    "        new_lst.append(i[0])\n",
    "    new_lst=sorted(new_lst,reverse=True)\n",
    "    \n",
    "    final_lst=[]\n",
    "    for i in new_lst:\n",
    "        for j in score:\n",
    "            if i==j[0]:\n",
    "                for k in lst:\n",
    "                    if j[1]==k[\"name\"]:\n",
    "                        final_lst.append(k)\n",
    "    return final_lst"
   ]
  },
  {
   "cell_type": "code",
   "execution_count": 79,
   "id": "c68b1de2",
   "metadata": {},
   "outputs": [
    {
     "data": {
      "text/plain": [
       "[{'name': 'c', 'score': 115, 'reputation': 30},\n",
       " {'name': 'b', 'score': 90, 'reputation': 40},\n",
       " {'name': 'a', 'score': 100, 'reputation': 20}]"
      ]
     },
     "execution_count": 79,
     "metadata": {},
     "output_type": "execute_result"
    }
   ],
   "source": [
    "leaderboards([\n",
    "  { \"name\": \"a\", \"score\": 100, \"reputation\": 20 },\n",
    "  { \"name\": \"b\", \"score\": 90, \"reputation\": 40 },\n",
    "  { \"name\": \"c\", \"score\": 115, \"reputation\": 30 },\n",
    "])"
   ]
  },
  {
   "cell_type": "markdown",
   "id": "6f282034",
   "metadata": {},
   "source": [
    "### 3. Create a function that, given a phrase and a number of letters guessed, returns a string with hyphens - for every letter of the phrase not guessed, and each letter guessed in place.\n",
    "\n",
    "Examples\n",
    "\n",
    "hangman(\"helicopter\", [\"o\", \"e\", \"s\"]) ➞ \"-e---o--e-\"\n",
    "\n",
    "hangman(\"tree\", [\"r\", \"t\", \"e\"]) ➞ \"tree\"\n",
    "\n",
    "hangman(\"Python rules\", [\"a\", \"n\", \"p\", \"r\", \"z\"]) ➞ \"P----n r----\"\n",
    "\n",
    "hangman(\"He\"s a very naughty boy!\", [\"e\", \"a\", \"y\"]) ➞ \"-e\"- a -e-y -a----y –y!\"\n"
   ]
  },
  {
   "cell_type": "code",
   "execution_count": 104,
   "id": "35cdefbb",
   "metadata": {},
   "outputs": [],
   "source": [
    "def hangman(string, lst):\n",
    "    new_string=''\n",
    "    for i in string:\n",
    "        if i.lower() in lst or i.upper() in lst or i in \" '!\":\n",
    "            new_string+=i\n",
    "        else:\n",
    "            new_string+='-'\n",
    "    return new_string"
   ]
  },
  {
   "cell_type": "code",
   "execution_count": 105,
   "id": "3a1fd121",
   "metadata": {},
   "outputs": [
    {
     "data": {
      "text/plain": [
       "'-e---o--e-'"
      ]
     },
     "execution_count": 105,
     "metadata": {},
     "output_type": "execute_result"
    }
   ],
   "source": [
    "hangman(\"helicopter\", [\"o\", \"e\", \"s\"]) #➞ \"-e---o--e-\""
   ]
  },
  {
   "cell_type": "code",
   "execution_count": 106,
   "id": "811ce8a8",
   "metadata": {},
   "outputs": [
    {
     "data": {
      "text/plain": [
       "'tree'"
      ]
     },
     "execution_count": 106,
     "metadata": {},
     "output_type": "execute_result"
    }
   ],
   "source": [
    "hangman(\"tree\", [\"r\", \"t\", \"e\"]) #➞ \"tree\""
   ]
  },
  {
   "cell_type": "code",
   "execution_count": 107,
   "id": "cc76e9ea",
   "metadata": {},
   "outputs": [
    {
     "data": {
      "text/plain": [
       "'P----n r----'"
      ]
     },
     "execution_count": 107,
     "metadata": {},
     "output_type": "execute_result"
    }
   ],
   "source": [
    "hangman(\"Python rules\", [\"a\", \"n\", \"p\", \"r\", \"z\"]) #➞ \"P----n r----\""
   ]
  },
  {
   "cell_type": "code",
   "execution_count": 108,
   "id": "1f031337",
   "metadata": {},
   "outputs": [
    {
     "data": {
      "text/plain": [
       "\"-e'- a -e-y -a----y --y!\""
      ]
     },
     "execution_count": 108,
     "metadata": {},
     "output_type": "execute_result"
    }
   ],
   "source": [
    "hangman(\"He's a very naughty boy!\", [\"e\", \"a\", \"y\"]) #➞ \"-e\"- a -e-y -a----y –y!\""
   ]
  },
  {
   "cell_type": "markdown",
   "id": "94a06448",
   "metadata": {},
   "source": [
    "### 4. The Collatz sequence is as follows:\n",
    "\n",
    "  - Start with some given integer n.\n",
    "  - If it is even, the next number will be n divided by 2.\n",
    "  - If it is odd, multiply it by 3 and add 1 to make the next number.\n",
    "  - The sequence stops when it reaches 1.\n",
    "\n",
    "According to the Collatz conjecture, it will always reach 1. If that's true, you can construct a finite sequence following the aforementioned method for any given integer.\n",
    "\n",
    "Write a function that takes in an integer n and returns the highest integer in the corresponding Collatz sequence.\n",
    "\n",
    "Examples\n",
    "\n",
    "max_collatz(10) ➞ 16\n",
    "# Collatz sequence: 10, 5, 16, 8, 4, 2, 1\n",
    "\n",
    "max_collatz(32) ➞ 32\n",
    "# Collatz sequence: 32, 16, 8, 4, 2, 1\n",
    "\n",
    "max_collatz(85) ➞ 256\n",
    "# Collatz sequence: 85, 256, 128, 64, 32, 16, 8, 4, 2, 1\n"
   ]
  },
  {
   "cell_type": "code",
   "execution_count": 113,
   "id": "1efc6135",
   "metadata": {},
   "outputs": [],
   "source": [
    "def max_collatz(n):\n",
    "    lst=[n]\n",
    "    while n>1:\n",
    "        if n%2==0:\n",
    "            n/=2\n",
    "            lst.append(n)\n",
    "        else:\n",
    "            n=n*3+1\n",
    "            lst.append(n)\n",
    "    return round(max(lst))"
   ]
  },
  {
   "cell_type": "code",
   "execution_count": 114,
   "id": "b22a8823",
   "metadata": {},
   "outputs": [
    {
     "data": {
      "text/plain": [
       "16"
      ]
     },
     "execution_count": 114,
     "metadata": {},
     "output_type": "execute_result"
    }
   ],
   "source": [
    "max_collatz(10) #➞ 16"
   ]
  },
  {
   "cell_type": "code",
   "execution_count": 115,
   "id": "090e255a",
   "metadata": {},
   "outputs": [
    {
     "data": {
      "text/plain": [
       "32"
      ]
     },
     "execution_count": 115,
     "metadata": {},
     "output_type": "execute_result"
    }
   ],
   "source": [
    "max_collatz(32) #➞ 32"
   ]
  },
  {
   "cell_type": "code",
   "execution_count": 116,
   "id": "a3d58e11",
   "metadata": {},
   "outputs": [
    {
     "data": {
      "text/plain": [
       "256"
      ]
     },
     "execution_count": 116,
     "metadata": {},
     "output_type": "execute_result"
    }
   ],
   "source": [
    "max_collatz(85) #➞ 256"
   ]
  },
  {
   "cell_type": "markdown",
   "id": "2ed7ffcc",
   "metadata": {},
   "source": [
    "### 5. Write a function that sorts a list of integers by their digit length in descending order, then settles ties by sorting numbers with the same digit length in ascending order.\n",
    "\n",
    "Examples\n",
    "\n",
    "digit_sort([77, 23, 5, 7, 101])\n",
    "➞ [101, 23, 77, 5, 7]\n",
    "\n",
    "digit_sort([1, 5, 9, 2, 789, 563, 444])\n",
    "➞ [444, 563, 789, 1, 2, 5, 9]\n",
    "\n",
    "digit_sort([53219, 3772, 564, 32, 1])\n",
    "➞ [53219, 3772, 564, 32, 1]\n"
   ]
  },
  {
   "cell_type": "code",
   "execution_count": 149,
   "id": "cf0aca85",
   "metadata": {},
   "outputs": [],
   "source": [
    "def digit_sort(lst):\n",
    "    lst_string=[]\n",
    "    for i in lst:\n",
    "        lst_string.append(str(i))\n",
    "    \n",
    "    lst_len=set()\n",
    "    for i in lst_string:\n",
    "        lst_len.add(len(i))\n",
    "    \n",
    "    new_lst=[]\n",
    "    for i in sorted(lst_len, reverse=True):\n",
    "        lst=[]\n",
    "        for j in lst_string:\n",
    "            if len(j)==i:\n",
    "                lst.append(j)\n",
    "        new_lst+=sorted(lst)\n",
    "    return new_lst"
   ]
  },
  {
   "cell_type": "code",
   "execution_count": 150,
   "id": "fd1a5a09",
   "metadata": {},
   "outputs": [
    {
     "data": {
      "text/plain": [
       "['101', '23', '77', '5', '7']"
      ]
     },
     "execution_count": 150,
     "metadata": {},
     "output_type": "execute_result"
    }
   ],
   "source": [
    "digit_sort([77, 23, 5, 7, 101]) #➞ [101, 23, 77, 5, 7]"
   ]
  },
  {
   "cell_type": "code",
   "execution_count": 151,
   "id": "9e1653c9",
   "metadata": {},
   "outputs": [
    {
     "data": {
      "text/plain": [
       "['444', '563', '789', '1', '2', '5', '9']"
      ]
     },
     "execution_count": 151,
     "metadata": {},
     "output_type": "execute_result"
    }
   ],
   "source": [
    "digit_sort([1, 5, 9, 2, 789, 563, 444]) #➞ [444, 563, 789, 1, 2, 5, 9]"
   ]
  },
  {
   "cell_type": "code",
   "execution_count": 152,
   "id": "d36a4123",
   "metadata": {},
   "outputs": [
    {
     "data": {
      "text/plain": [
       "['53219', '3772', '564', '32', '1']"
      ]
     },
     "execution_count": 152,
     "metadata": {},
     "output_type": "execute_result"
    }
   ],
   "source": [
    "digit_sort([53219, 3772, 564, 32, 1]) #➞ [53219, 3772, 564, 32, 1]"
   ]
  }
 ],
 "metadata": {
  "kernelspec": {
   "display_name": "Python 3 (ipykernel)",
   "language": "python",
   "name": "python3"
  },
  "language_info": {
   "codemirror_mode": {
    "name": "ipython",
    "version": 3
   },
   "file_extension": ".py",
   "mimetype": "text/x-python",
   "name": "python",
   "nbconvert_exporter": "python",
   "pygments_lexer": "ipython3",
   "version": "3.9.7"
  }
 },
 "nbformat": 4,
 "nbformat_minor": 5
}
