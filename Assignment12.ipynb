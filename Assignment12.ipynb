{
 "cells": [
  {
   "cell_type": "markdown",
   "id": "57523ae2",
   "metadata": {},
   "source": [
    "### 1. For this challenge, forget how to add two numbers together. The best explanation on what to do for this function is this meme:\n",
    "\n",
    "\n",
    "\n",
    "\n",
    "Examples\n",
    "\n",
    "meme_sum(26, 39) ➞ 515\n",
    "# 2+3 = 5, 6+9 = 15\n",
    "# 26 + 39 = 515\n",
    "\n",
    "meme_sum(122, 81) ➞ 1103\n",
    "# 1+0 = 1, 2+8 = 10, 2+1 = 3\n",
    "# 122 + 81 = 1103\n",
    "\n",
    "meme_sum(1222, 30277) ➞ 31499\n"
   ]
  },
  {
   "cell_type": "code",
   "execution_count": 6,
   "id": "9268d487",
   "metadata": {},
   "outputs": [],
   "source": [
    "def meme_sum(a,b):\n",
    "    a,b = str(a),str(b)\n",
    "    summ = ''\n",
    "    while len(a) != len(b):\n",
    "        if len(a) < len(b):\n",
    "            a ='0'+a\n",
    "        else:\n",
    "            b='0'+b\n",
    "            \n",
    "    for i in range(len(a)):\n",
    "        summ += str(int(a[i])+int(b[i]))\n",
    "    return summ"
   ]
  },
  {
   "cell_type": "code",
   "execution_count": 7,
   "id": "81989ddb",
   "metadata": {},
   "outputs": [
    {
     "data": {
      "text/plain": [
       "'515'"
      ]
     },
     "execution_count": 7,
     "metadata": {},
     "output_type": "execute_result"
    }
   ],
   "source": [
    "meme_sum(26, 39) #➞ 515"
   ]
  },
  {
   "cell_type": "code",
   "execution_count": 8,
   "id": "766fa65c",
   "metadata": {},
   "outputs": [
    {
     "data": {
      "text/plain": [
       "'1103'"
      ]
     },
     "execution_count": 8,
     "metadata": {},
     "output_type": "execute_result"
    }
   ],
   "source": [
    "meme_sum(122, 81) #➞ 1103"
   ]
  },
  {
   "cell_type": "code",
   "execution_count": 9,
   "id": "ad525a92",
   "metadata": {},
   "outputs": [
    {
     "data": {
      "text/plain": [
       "'31499'"
      ]
     },
     "execution_count": 9,
     "metadata": {},
     "output_type": "execute_result"
    }
   ],
   "source": [
    "meme_sum(1222, 30277) #➞ 31499"
   ]
  },
  {
   "cell_type": "markdown",
   "id": "a14bb3d5",
   "metadata": {},
   "source": [
    "### 2. Given an integer, create a function that returns the next prime. If the number is prime, return the number itself.\n",
    "\n",
    "Examples\n",
    "\n",
    "next_prime(12) ➞ 13\n",
    "\n",
    "next_prime(24) ➞ 29\n",
    "\n",
    "next_prime(11) ➞ 11\n",
    "# 11 is a prime, so we return the number itself.\n"
   ]
  },
  {
   "cell_type": "code",
   "execution_count": 1,
   "id": "7a728a1b",
   "metadata": {},
   "outputs": [],
   "source": [
    "def next_prime(n):\n",
    "    \n",
    "    for i in range(n,100*n):\n",
    "        count=0\n",
    "        for j in range(2,i):\n",
    "            if i%j==0:\n",
    "                count+=1\n",
    "                break\n",
    "            else:\n",
    "                pass\n",
    "        if count==0:\n",
    "            return i\n",
    "            "
   ]
  },
  {
   "cell_type": "code",
   "execution_count": 3,
   "id": "cd5ff05d",
   "metadata": {},
   "outputs": [
    {
     "data": {
      "text/plain": [
       "13"
      ]
     },
     "execution_count": 3,
     "metadata": {},
     "output_type": "execute_result"
    }
   ],
   "source": [
    "next_prime(12) #➞ 13"
   ]
  },
  {
   "cell_type": "code",
   "execution_count": 4,
   "id": "1e1950df",
   "metadata": {},
   "outputs": [
    {
     "data": {
      "text/plain": [
       "29"
      ]
     },
     "execution_count": 4,
     "metadata": {},
     "output_type": "execute_result"
    }
   ],
   "source": [
    "next_prime(24) #➞ 29"
   ]
  },
  {
   "cell_type": "code",
   "execution_count": 5,
   "id": "98038f49",
   "metadata": {},
   "outputs": [
    {
     "data": {
      "text/plain": [
       "11"
      ]
     },
     "execution_count": 5,
     "metadata": {},
     "output_type": "execute_result"
    }
   ],
   "source": [
    "next_prime(11) #➞ 11"
   ]
  },
  {
   "cell_type": "markdown",
   "id": "5090f139",
   "metadata": {},
   "source": [
    "### 3. If a person traveled up a hill for 18mins at 20mph and then traveled back down the same path at 60mph then their average speed traveled was 30mph.\n",
    "\n",
    "Write a function that returns the average speed traveled given an uphill time, uphill rate and a downhill rate. Uphill time is given in minutes. Return the rate as an integer (mph). No rounding is necessary.\n",
    "\n",
    "Examples\n",
    "\n",
    "ave_spd(18, 20, 60) ➞ 30\n",
    "\n",
    "ave_spd(30, 10, 30) ➞ 15\n",
    "\n",
    "ave_spd(30, 8, 24) ➞ 12\n"
   ]
  },
  {
   "cell_type": "code",
   "execution_count": 13,
   "id": "84ff7ada",
   "metadata": {},
   "outputs": [],
   "source": [
    "def ave_spd(t1,v1,v2):\n",
    "    distance=t1*v1\n",
    "    t2=distance/v2\n",
    "    v_avg = (2*distance)/(t1+t2)\n",
    "    return v_avg"
   ]
  },
  {
   "cell_type": "code",
   "execution_count": 14,
   "id": "ae2fd84f",
   "metadata": {},
   "outputs": [
    {
     "data": {
      "text/plain": [
       "30.0"
      ]
     },
     "execution_count": 14,
     "metadata": {},
     "output_type": "execute_result"
    }
   ],
   "source": [
    "ave_spd(18, 20, 60) #➞ 30"
   ]
  },
  {
   "cell_type": "code",
   "execution_count": 15,
   "id": "0099731e",
   "metadata": {},
   "outputs": [
    {
     "data": {
      "text/plain": [
       "15.0"
      ]
     },
     "execution_count": 15,
     "metadata": {},
     "output_type": "execute_result"
    }
   ],
   "source": [
    "ave_spd(30, 10, 30) #➞ 15"
   ]
  },
  {
   "cell_type": "code",
   "execution_count": 16,
   "id": "c869df6d",
   "metadata": {},
   "outputs": [
    {
     "data": {
      "text/plain": [
       "12.0"
      ]
     },
     "execution_count": 16,
     "metadata": {},
     "output_type": "execute_result"
    }
   ],
   "source": [
    "ave_spd(30, 8, 24) #➞ 12"
   ]
  },
  {
   "cell_type": "markdown",
   "id": "a16e2f08",
   "metadata": {},
   "source": [
    "### 4. The Kempner Function, applied to a composite number, permits to find the smallest integer greater than zero whose factorial is exactly divided by the number.\n",
    "\n",
    "kempner(6) ➞ 3\n",
    "\n",
    "1! = 1 % 6 > 0\n",
    "2! = 2 % 6 > 0\n",
    "3! = 6 % 6 === 0\n",
    "\n",
    "kempner(10) ➞ 5\n",
    "\n",
    "1! = 1 % 10 > 0\n",
    "2! = 2 % 10 > 0\n",
    "3! = 6 % 10 > 0\n",
    "4! = 24 % 10 > 0\n",
    "5! = 120 % 10 === 0\n",
    "\n",
    "A Kempner Function applied to a prime will always return the prime itself.\n",
    "\n",
    "kempner(2) ➞ 2\n",
    "kempner(5) ➞ 5\n",
    "\n",
    "Given an integer n, implement a Kempner Function.\n",
    "\n",
    "Examples\n",
    "\n",
    "kempner(6) ➞ 3\n",
    "\n",
    "kempner(10) ➞ 5\n",
    "\n",
    "kempner(2) ➞ 2\n"
   ]
  },
  {
   "cell_type": "code",
   "execution_count": 21,
   "id": "e73c364f",
   "metadata": {},
   "outputs": [],
   "source": [
    "def kempner(n):\n",
    "    \n",
    "    def fact(num):\n",
    "        \n",
    "        if num==1:\n",
    "            return 1\n",
    "        else:\n",
    "            return num*fact(num-1)\n",
    "        \n",
    "    for i in range(1,n+1):\n",
    "        if fact(i)%n==0:\n",
    "            return i"
   ]
  },
  {
   "cell_type": "code",
   "execution_count": 22,
   "id": "7e862f07",
   "metadata": {},
   "outputs": [
    {
     "data": {
      "text/plain": [
       "3"
      ]
     },
     "execution_count": 22,
     "metadata": {},
     "output_type": "execute_result"
    }
   ],
   "source": [
    "kempner(6) #➞ 3"
   ]
  },
  {
   "cell_type": "code",
   "execution_count": 23,
   "id": "947f1724",
   "metadata": {},
   "outputs": [
    {
     "data": {
      "text/plain": [
       "5"
      ]
     },
     "execution_count": 23,
     "metadata": {},
     "output_type": "execute_result"
    }
   ],
   "source": [
    "kempner(10) #➞ 5"
   ]
  },
  {
   "cell_type": "code",
   "execution_count": 24,
   "id": "2a170b1f",
   "metadata": {},
   "outputs": [
    {
     "data": {
      "text/plain": [
       "2"
      ]
     },
     "execution_count": 24,
     "metadata": {},
     "output_type": "execute_result"
    }
   ],
   "source": [
    "kempner(2) #➞ 2"
   ]
  },
  {
   "cell_type": "markdown",
   "id": "1fafdea5",
   "metadata": {},
   "source": [
    "### 5. You work in a factory, and your job is to take items from a conveyor belt and pack them into boxes. Each box can hold a maximum of 10 kgs. Given a list containing the weight (in kg) of each item, how many boxes would you need to pack all of the items?\n",
    "\n",
    "Example\n",
    "\n",
    "boxes([2, 1, 2, 5, 4, 3, 6, 1, 1, 9, 3, 2]) ➞ 5\n",
    "\n",
    " Box 1 = [2, 1, 2, 5] (10kg)\n",
    " \n",
    " Box 2 = [4, 3] (7kg)\n",
    " \n",
    " Box 3 = [6, 1, 1] (8kg)\n",
    " \n",
    " Box 4 = [9] (9kg)\n",
    " \n",
    " Box 5 = [3, 2] (5kg)\n"
   ]
  },
  {
   "cell_type": "code",
   "execution_count": 56,
   "id": "e468fcb7",
   "metadata": {},
   "outputs": [],
   "source": [
    "def boxes(lst):\n",
    "    summ=0\n",
    "    count=0\n",
    "    for i in lst:\n",
    "        if summ+i==10:\n",
    "            summ=0\n",
    "            count+=1\n",
    "        elif summ+i>10:\n",
    "            summ+=i-10\n",
    "            count+=2\n",
    "        else:\n",
    "            summ+=i\n",
    "    return count"
   ]
  },
  {
   "cell_type": "code",
   "execution_count": 57,
   "id": "bdba9e2a",
   "metadata": {},
   "outputs": [
    {
     "data": {
      "text/plain": [
       "5"
      ]
     },
     "execution_count": 57,
     "metadata": {},
     "output_type": "execute_result"
    }
   ],
   "source": [
    "boxes([2, 1, 2, 5, 4, 3, 6, 1, 1, 9, 3, 2]) #➞ 5"
   ]
  }
 ],
 "metadata": {
  "kernelspec": {
   "display_name": "Python 3 (ipykernel)",
   "language": "python",
   "name": "python3"
  },
  "language_info": {
   "codemirror_mode": {
    "name": "ipython",
    "version": 3
   },
   "file_extension": ".py",
   "mimetype": "text/x-python",
   "name": "python",
   "nbconvert_exporter": "python",
   "pygments_lexer": "ipython3",
   "version": "3.9.7"
  }
 },
 "nbformat": 4,
 "nbformat_minor": 5
}
