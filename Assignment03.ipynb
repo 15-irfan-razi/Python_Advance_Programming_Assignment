{
 "cells": [
  {
   "cell_type": "markdown",
   "id": "cbb8fd9b",
   "metadata": {},
   "source": [
    "### 1. Create a function to perform basic arithmetic operations that includes addition, subtraction, multiplication and division on a string number (e.g. \"12 + 24\" or \"23 - 21\" or \"12 // 12\" or \"12 * 21\").\n",
    "\n",
    "Here, we have 1 followed by a space, operator followed by another space and 2. For the challenge, we are going to have only two numbers between 1 valid operator. The return value should be a number.\n",
    "\n",
    "eval() is not allowed. In case of division, whenever the second number equals \"0\" return -1.\n",
    "\n",
    "For example:\n",
    "\n",
    "\"15 // 0\"  ➞ -1\n",
    "\n",
    "Examples\n",
    "\n",
    "arithmetic_operation(\"12 + 12\") ➞ 24 // 12 + 12 = 24\n",
    "\n",
    "arithmetic_operation(\"12 - 12\") ➞ 24 // 12 - 12 = 0\n",
    "\n",
    "arithmetic_operation(\"12 * 12\") ➞ 144 // 12 * 12 = 144\n",
    "\n",
    "arithmetic_operation(\"12 // 0\") ➞ -1 // 12 / 0 = -1\n"
   ]
  },
  {
   "cell_type": "code",
   "execution_count": 20,
   "id": "8235cb90",
   "metadata": {},
   "outputs": [],
   "source": [
    "import operator\n",
    "def arithmetic_operation(string):\n",
    "    try:\n",
    "        dct={'+':operator.add,'-':operator.sub,'*':operator.mul,'/':operator.truediv,'//':operator.floordiv}\n",
    "        lst=string.split(' ')\n",
    "        num1,op,num2=int(lst[0]),dct[lst[1]],int(lst[2])\n",
    "        result= op(num1,num2)\n",
    "        return result\n",
    "    except ZeroDivisionError as e:\n",
    "        return -1\n",
    "    except Exception as e1:\n",
    "        print(\"Error msg:\",e1)"
   ]
  },
  {
   "cell_type": "code",
   "execution_count": 21,
   "id": "f98e0e65",
   "metadata": {},
   "outputs": [
    {
     "data": {
      "text/plain": [
       "24"
      ]
     },
     "execution_count": 21,
     "metadata": {},
     "output_type": "execute_result"
    }
   ],
   "source": [
    "arithmetic_operation(\"12 + 12\") #➞ 24 // 12 + 12 = 24"
   ]
  },
  {
   "cell_type": "code",
   "execution_count": 22,
   "id": "5b863d56",
   "metadata": {},
   "outputs": [
    {
     "data": {
      "text/plain": [
       "0"
      ]
     },
     "execution_count": 22,
     "metadata": {},
     "output_type": "execute_result"
    }
   ],
   "source": [
    "arithmetic_operation(\"12 - 12\") #➞ 24 // 12 - 12 = 0"
   ]
  },
  {
   "cell_type": "code",
   "execution_count": 23,
   "id": "0f86dba5",
   "metadata": {},
   "outputs": [
    {
     "data": {
      "text/plain": [
       "144"
      ]
     },
     "execution_count": 23,
     "metadata": {},
     "output_type": "execute_result"
    }
   ],
   "source": [
    "arithmetic_operation(\"12 * 12\") #➞ 144 // 12 * 12 = 144"
   ]
  },
  {
   "cell_type": "code",
   "execution_count": 24,
   "id": "dbb81da8",
   "metadata": {},
   "outputs": [
    {
     "data": {
      "text/plain": [
       "-1"
      ]
     },
     "execution_count": 24,
     "metadata": {},
     "output_type": "execute_result"
    }
   ],
   "source": [
    "arithmetic_operation(\"12 // 0\") #➞ -1 // 12 / 0 = -1"
   ]
  },
  {
   "cell_type": "markdown",
   "id": "57b09913",
   "metadata": {},
   "source": [
    "### 2.Write a function that takes the coordinates of three points in the form of a 2d array and returns the perimeter of the triangle. The given points are the vertices of a triangle on a two-dimensional plane.\n",
    "**Examples:**  \n",
    "`perimeter( [ [15, 7], [5, 22], [11, 1] ] ) ➞ 47.08`  \n",
    "`perimeter( [ [0, 0], [0, 1], [1, 0] ] ) ➞ 3.42`  \n",
    "`perimeter( [ [-10, -10], [10, 10 ], [-10, 10] ] ) ➞ 68.28`  "
   ]
  },
  {
   "cell_type": "code",
   "execution_count": 46,
   "id": "ba463a76",
   "metadata": {},
   "outputs": [],
   "source": [
    "import numpy as np\n",
    "def perimeter(lst):\n",
    "    try:\n",
    "        l1=np.sqrt((lst[0][0] - lst[1][0])**2 + (lst[0][1] - lst[1][1])**2)\n",
    "        l2=np.sqrt((lst[0][0] - lst[2][0])**2 + (lst[0][1] - lst[2][1])**2)\n",
    "        l3=np.sqrt((lst[1][0] - lst[2][0])**2 + (lst[2][1] - lst[1][1])**2)\n",
    "        result=l1+l2+l3\n",
    "        return round(result,2)\n",
    "    except Exception as e:\n",
    "        print(\"Error msg:\",e)"
   ]
  },
  {
   "cell_type": "code",
   "execution_count": 47,
   "id": "c7bda47a",
   "metadata": {},
   "outputs": [
    {
     "data": {
      "text/plain": [
       "47.08"
      ]
     },
     "execution_count": 47,
     "metadata": {},
     "output_type": "execute_result"
    }
   ],
   "source": [
    "perimeter( [ [15, 7], [5, 22], [11, 1] ] ) #➞ 47.08"
   ]
  },
  {
   "cell_type": "code",
   "execution_count": 48,
   "id": "135b6b3e",
   "metadata": {},
   "outputs": [
    {
     "data": {
      "text/plain": [
       "3.41"
      ]
     },
     "execution_count": 48,
     "metadata": {},
     "output_type": "execute_result"
    }
   ],
   "source": [
    "perimeter( [ [0, 0], [0, 1], [1, 0] ] ) #➞ 3.42"
   ]
  },
  {
   "cell_type": "code",
   "execution_count": 49,
   "id": "e1cbf720",
   "metadata": {},
   "outputs": [
    {
     "data": {
      "text/plain": [
       "68.28"
      ]
     },
     "execution_count": 49,
     "metadata": {},
     "output_type": "execute_result"
    }
   ],
   "source": [
    "perimeter( [ [-10, -10], [10, 10 ], [-10, 10] ] ) #➞ 68.28"
   ]
  },
  {
   "cell_type": "markdown",
   "id": "0ebc39d3",
   "metadata": {},
   "source": [
    "### 3. A city skyline can be represented as a 2-D list with 1s representing buildings. In the example below, the height of the tallest building is 4 (second-most right column).\n",
    "\n",
    "[[0, 0, 0, 0, 0, 0],\n",
    "[0, 0, 0, 0, 1, 0],\n",
    "[0, 0, 1, 0, 1, 0],\n",
    "[0, 1, 1, 1, 1, 0],\n",
    "[1, 1, 1, 1, 1, 1]]\n",
    "\n",
    "Create a function that takes a skyline (2-D list of 0's and 1's) and returns the height of the tallest skyscraper.\n",
    "\n",
    "Examples\n",
    "\n",
    "tallest_skyscraper([\n",
    "  [0, 0, 0, 0],\n",
    "  [0, 1, 0, 0],\n",
    "  [0, 1, 1, 0],\n",
    "  [1, 1, 1, 1]\n",
    "]) ➞ 3\n",
    "\n",
    "tallest_skyscraper([\n",
    "  [0, 1, 0, 0],\n",
    "  [0, 1, 0, 0],\n",
    "  [0, 1, 1, 0],\n",
    "  [1, 1, 1, 1]\n",
    "]) ➞ 4\n",
    "\n",
    "tallest_skyscraper([\n",
    "  [0, 0, 0, 0],\n",
    "  [0, 0, 0, 0],\n",
    "  [1, 1, 1, 0],\n",
    "  [1, 1, 1, 1]\n",
    "]) ➞ 2\n"
   ]
  },
  {
   "cell_type": "code",
   "execution_count": 124,
   "id": "e9a78fa9",
   "metadata": {},
   "outputs": [],
   "source": [
    "def tallest_skyscraper(lst):\n",
    "    try:\n",
    "        high=0\n",
    "        for i in range(len(lst)):\n",
    "            total=0\n",
    "            for j in range(len(lst[i])):\n",
    "                total+=lst[j][i]\n",
    "\n",
    "            if total>high:\n",
    "                high=total\n",
    "        return high\n",
    "    except Exception as e:\n",
    "        print(\"Error msg:\",e)"
   ]
  },
  {
   "cell_type": "code",
   "execution_count": 125,
   "id": "4ef9648c",
   "metadata": {},
   "outputs": [
    {
     "data": {
      "text/plain": [
       "3"
      ]
     },
     "execution_count": 125,
     "metadata": {},
     "output_type": "execute_result"
    }
   ],
   "source": [
    "tallest_skyscraper([ [0, 0, 0, 0], [0, 1, 0, 0], [0, 1, 1, 0], [1, 1, 1, 1] ]) #➞ 3"
   ]
  },
  {
   "cell_type": "code",
   "execution_count": 126,
   "id": "f0475f92",
   "metadata": {},
   "outputs": [
    {
     "data": {
      "text/plain": [
       "4"
      ]
     },
     "execution_count": 126,
     "metadata": {},
     "output_type": "execute_result"
    }
   ],
   "source": [
    "tallest_skyscraper([ [0, 1, 0, 0], [0, 1, 0, 0], [0, 1, 1, 0], [1, 1, 1, 1] ]) #➞ 4"
   ]
  },
  {
   "cell_type": "code",
   "execution_count": 127,
   "id": "5b0cee7c",
   "metadata": {},
   "outputs": [
    {
     "data": {
      "text/plain": [
       "2"
      ]
     },
     "execution_count": 127,
     "metadata": {},
     "output_type": "execute_result"
    }
   ],
   "source": [
    "tallest_skyscraper([ [0, 0, 0, 0], [0, 0, 0, 0], [1, 1, 1, 0], [1, 1, 1, 1] ]) #➞ 2"
   ]
  },
  {
   "cell_type": "markdown",
   "id": "aeac8a7f",
   "metadata": {},
   "source": [
    "### 4. A financial institution provides professional services to banks and claims charges from the customers based on the number of man-days provided. Internally, it has set a scheme to motivate and reward staff to meet and exceed targeted billable utilization and revenues by paying a bonus for each day claimed from customers in excess of a threshold target.\n",
    "\n",
    "This quarterly scheme is calculated with a threshold target of 32 days per quarter, and the incentive payment for each billable day in excess of such threshold target is shown as follows:\n",
    "\n",
    "Days\t                             Bonus\n",
    "0 to 32 days\t                   Zero\n",
    "33 to 40 days\t         SGD$325 per billable day\n",
    "41 to 48 days\t         SGD$550 per billable day\n",
    "Greater than 48 days      SGD$600 per billable day\n",
    "\n",
    "Please note that incentive payment is calculated progressively. As an example, if an employee reached total billable days of 45 in a quarter, his/her incentive payment is computed as follows:\n",
    "\n",
    "32*0 + 8*325 + 5*550 = 5350\n",
    "\n",
    "Write a function to read the billable days of an employee and return the bonus he/she has obtained in that quarter.\n",
    "\n",
    "Examples\n",
    "\n",
    "bonus(15) ➞ 0\n",
    "\n",
    "bonus(37) ➞ 1625\n",
    "\n",
    "bonus(50) ➞ 8200\n"
   ]
  },
  {
   "cell_type": "code",
   "execution_count": 165,
   "id": "c91dfcec",
   "metadata": {},
   "outputs": [],
   "source": [
    "def bonus(n):\n",
    "    try:\n",
    "        if n<=32:\n",
    "            return 0\n",
    "        elif n>32 and n<=40:\n",
    "            result=(n-32)*325\n",
    "            return result\n",
    "        elif n>40 and n<=48:\n",
    "            result=325*8 + 550*(n-40)\n",
    "            return result\n",
    "        else:\n",
    "            result=((8*325) + (8*550) + ((n-48)*600))\n",
    "            return result\n",
    "    except Exception as e:\n",
    "        print(\"Error msg:\",e)"
   ]
  },
  {
   "cell_type": "code",
   "execution_count": 166,
   "id": "ca07e974",
   "metadata": {},
   "outputs": [
    {
     "data": {
      "text/plain": [
       "0"
      ]
     },
     "execution_count": 166,
     "metadata": {},
     "output_type": "execute_result"
    }
   ],
   "source": [
    "bonus(15) #➞ 0"
   ]
  },
  {
   "cell_type": "code",
   "execution_count": 167,
   "id": "a564cbb1",
   "metadata": {},
   "outputs": [
    {
     "data": {
      "text/plain": [
       "1625"
      ]
     },
     "execution_count": 167,
     "metadata": {},
     "output_type": "execute_result"
    }
   ],
   "source": [
    "bonus(37) #➞ 1625"
   ]
  },
  {
   "cell_type": "code",
   "execution_count": 169,
   "id": "e01650e3",
   "metadata": {},
   "outputs": [
    {
     "data": {
      "text/plain": [
       "8200"
      ]
     },
     "execution_count": 169,
     "metadata": {},
     "output_type": "execute_result"
    }
   ],
   "source": [
    "bonus(50) #➞ 8200"
   ]
  },
  {
   "cell_type": "markdown",
   "id": "9493ccf5",
   "metadata": {},
   "source": [
    "### 5. A number is said to be Disarium if the sum of its digits raised to their respective positions is the number itself.\n",
    "\n",
    "Create a function that determines whether a number is a Disarium or not.\n",
    "\n",
    "Examples\n",
    "\n",
    "is_disarium(75) ➞ False\n",
    "# 7^1 + 5^2 = 7 + 25 = 32\n",
    "\n",
    "is_disarium(135) ➞ True\n",
    "# 1^1 + 3^2 + 5^3 = 1 + 9 + 125 = 135\n",
    "\n",
    "is_disarium(544) ➞ False\n",
    "\n",
    "is_disarium(518) ➞ True\n",
    "\n",
    "is_disarium(466) ➞ False\n",
    "\n",
    "is_disarium(8) ➞ True\n"
   ]
  },
  {
   "cell_type": "code",
   "execution_count": 11,
   "id": "ed1b24ca",
   "metadata": {},
   "outputs": [],
   "source": [
    "def is_disarium(a):\n",
    "    try:\n",
    "        temp=a\n",
    "        lst=[]\n",
    "        while a>0:\n",
    "            if a!=1:\n",
    "                lst.append(a%10)\n",
    "                a//=10\n",
    "        lst=lst[::-1]\n",
    "        \n",
    "        result=0\n",
    "        for i in range(len(lst)):\n",
    "            result+=lst[i]**(i+1)\n",
    "            \n",
    "        if result==temp:\n",
    "            return True\n",
    "        else:\n",
    "            return False\n",
    "    except Exception as e:\n",
    "        print(\"Error msg:\",e)"
   ]
  },
  {
   "cell_type": "code",
   "execution_count": 12,
   "id": "5f63c1e8",
   "metadata": {},
   "outputs": [
    {
     "data": {
      "text/plain": [
       "False"
      ]
     },
     "execution_count": 12,
     "metadata": {},
     "output_type": "execute_result"
    }
   ],
   "source": [
    "is_disarium(544) #➞ False"
   ]
  },
  {
   "cell_type": "code",
   "execution_count": 13,
   "id": "1ce29a56",
   "metadata": {},
   "outputs": [
    {
     "data": {
      "text/plain": [
       "True"
      ]
     },
     "execution_count": 13,
     "metadata": {},
     "output_type": "execute_result"
    }
   ],
   "source": [
    "is_disarium(518) #➞ True"
   ]
  },
  {
   "cell_type": "code",
   "execution_count": 14,
   "id": "c1cc2249",
   "metadata": {},
   "outputs": [
    {
     "data": {
      "text/plain": [
       "False"
      ]
     },
     "execution_count": 14,
     "metadata": {},
     "output_type": "execute_result"
    }
   ],
   "source": [
    "is_disarium(466) #➞ False"
   ]
  },
  {
   "cell_type": "code",
   "execution_count": 15,
   "id": "1030ada9",
   "metadata": {},
   "outputs": [
    {
     "data": {
      "text/plain": [
       "True"
      ]
     },
     "execution_count": 15,
     "metadata": {},
     "output_type": "execute_result"
    }
   ],
   "source": [
    "is_disarium(8) #➞ True"
   ]
  }
 ],
 "metadata": {
  "kernelspec": {
   "display_name": "Python 3 (ipykernel)",
   "language": "python",
   "name": "python3"
  },
  "language_info": {
   "codemirror_mode": {
    "name": "ipython",
    "version": 3
   },
   "file_extension": ".py",
   "mimetype": "text/x-python",
   "name": "python",
   "nbconvert_exporter": "python",
   "pygments_lexer": "ipython3",
   "version": "3.9.7"
  }
 },
 "nbformat": 4,
 "nbformat_minor": 5
}
