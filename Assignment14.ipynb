{
 "cells": [
  {
   "cell_type": "markdown",
   "id": "8de9cb30",
   "metadata": {},
   "source": [
    "### 1. Given a list of numbers, create a function that removes 25% from every number in the list except the smallest number, and adds the total amount removed to the smallest number.\n",
    "\n",
    "Examples\n",
    "\n",
    "show_the_love([4, 1, 4]) ➞ [3, 3, 3]\n",
    "\n",
    "show_the_love([16, 10, 8]) ➞ [12, 7.5, 14.5]\n",
    "\n",
    "show_the_love([2, 100]) ➞ [27, 75]\n"
   ]
  },
  {
   "cell_type": "code",
   "execution_count": 23,
   "id": "978fa994",
   "metadata": {},
   "outputs": [],
   "source": [
    "def show_the_love(lst):\n",
    "    smallest=lst[0]\n",
    "    for i in range(1,len(lst)):\n",
    "        if lst[i]<smallest:\n",
    "            smallest=lst[i]     \n",
    "    \n",
    "    chunk=0        \n",
    "    for i in lst:\n",
    "        if i==smallest:\n",
    "            pass\n",
    "        else:\n",
    "            chunk+=(0.25*i)       \n",
    "    \n",
    "    new_lst=[]        \n",
    "    for i in lst:\n",
    "        if i==smallest:\n",
    "            new_lst.append(i+chunk)\n",
    "        else:\n",
    "            new_lst.append(i*0.75)\n",
    "    return new_lst"
   ]
  },
  {
   "cell_type": "code",
   "execution_count": 24,
   "id": "fcbf0357",
   "metadata": {},
   "outputs": [
    {
     "data": {
      "text/plain": [
       "[3.0, 3.0, 3.0]"
      ]
     },
     "execution_count": 24,
     "metadata": {},
     "output_type": "execute_result"
    }
   ],
   "source": [
    "show_the_love([4, 1, 4]) #➞ [3, 3, 3]"
   ]
  },
  {
   "cell_type": "code",
   "execution_count": 25,
   "id": "2aa934ff",
   "metadata": {},
   "outputs": [
    {
     "data": {
      "text/plain": [
       "[12.0, 7.5, 14.5]"
      ]
     },
     "execution_count": 25,
     "metadata": {},
     "output_type": "execute_result"
    }
   ],
   "source": [
    "show_the_love([16, 10, 8]) #➞ [12, 7.5, 14.5]"
   ]
  },
  {
   "cell_type": "code",
   "execution_count": 26,
   "id": "7e55ead7",
   "metadata": {},
   "outputs": [
    {
     "data": {
      "text/plain": [
       "[27.0, 75.0]"
      ]
     },
     "execution_count": 26,
     "metadata": {},
     "output_type": "execute_result"
    }
   ],
   "source": [
    "show_the_love([2, 100]) #➞ [27, 75]"
   ]
  },
  {
   "cell_type": "markdown",
   "id": "6fe92621",
   "metadata": {},
   "source": [
    "### 2. Create a function that takes in two words as input and returns a list of three elements, in the following order:\n",
    "\n",
    "   1.Shared letters between two words.\n",
    "   2.Letters unique to word 1.\n",
    "   3.Letters unique to word 2.\n",
    "\n",
    "Each element should have unique letters, and have each letter be alphabetically sorted.\n",
    "\n",
    "Examples\n",
    "\n",
    "letters(\"sharp\", \"soap\") ➞ [\"aps\", \"hr\", \"o\"]\n",
    "\n",
    "letters(\"board\", \"bored\") ➞ [\"bdor\", \"a\", \"e\"]\n",
    "\n",
    "letters(\"happiness\", \"envelope\") ➞ [\"enp\", \"ahis\", \"lov\"]\n",
    "\n",
    "letters(\"kerfuffle\", \"fluffy\") ➞ [\"flu\", \"ekr\", \"y\"]\n",
    "# Even with multiple matching letters (e.g. 3 f's), there should \n",
    "# only exist a single \"f\" in your first element.\n",
    "\n",
    "letters(\"match\", \"ham\") ➞ [\"ahm\", \"ct\", \"\"]\n",
    "# \"ham\" does not contain any letters that are not found already \n",
    "# in \"match\".\n"
   ]
  },
  {
   "cell_type": "code",
   "execution_count": 38,
   "id": "ad028c20",
   "metadata": {},
   "outputs": [],
   "source": [
    "def letters(word1, word2):\n",
    "    common=''\n",
    "    unique1=''\n",
    "    unique2=''\n",
    "    for i in word1:\n",
    "        for j in word2:\n",
    "            if i==j:\n",
    "                if i in common:\n",
    "                    pass\n",
    "                else:\n",
    "                    common+=i\n",
    "    for i in word1:\n",
    "        if i in common:\n",
    "            pass\n",
    "        else:\n",
    "            if i in unique1:\n",
    "                pass\n",
    "            else:\n",
    "                unique1+=i\n",
    "    for i in word2:\n",
    "        if i in common:\n",
    "            pass\n",
    "        else:\n",
    "            if i in unique2:\n",
    "                pass\n",
    "            else:\n",
    "                unique2+=i\n",
    "    return [common,unique1,unique2]"
   ]
  },
  {
   "cell_type": "code",
   "execution_count": 39,
   "id": "a65554dd",
   "metadata": {},
   "outputs": [
    {
     "data": {
      "text/plain": [
       "['sap', 'hr', 'o']"
      ]
     },
     "execution_count": 39,
     "metadata": {},
     "output_type": "execute_result"
    }
   ],
   "source": [
    "letters(\"sharp\", \"soap\") #➞ [\"aps\", \"hr\", \"o\"]"
   ]
  },
  {
   "cell_type": "code",
   "execution_count": 40,
   "id": "aeb58f9a",
   "metadata": {},
   "outputs": [
    {
     "data": {
      "text/plain": [
       "['bord', 'a', 'e']"
      ]
     },
     "execution_count": 40,
     "metadata": {},
     "output_type": "execute_result"
    }
   ],
   "source": [
    "letters(\"board\", \"bored\") #➞ [\"bdor\", \"a\", \"e\"]"
   ]
  },
  {
   "cell_type": "code",
   "execution_count": 41,
   "id": "3d442d04",
   "metadata": {},
   "outputs": [
    {
     "data": {
      "text/plain": [
       "['pne', 'hais', 'vlo']"
      ]
     },
     "execution_count": 41,
     "metadata": {},
     "output_type": "execute_result"
    }
   ],
   "source": [
    "letters(\"happiness\", \"envelope\") #➞ [\"enp\", \"ahis\", \"lov\"]"
   ]
  },
  {
   "cell_type": "code",
   "execution_count": 42,
   "id": "ef222dd3",
   "metadata": {},
   "outputs": [
    {
     "data": {
      "text/plain": [
       "['ful', 'ker', 'y']"
      ]
     },
     "execution_count": 42,
     "metadata": {},
     "output_type": "execute_result"
    }
   ],
   "source": [
    "letters(\"kerfuffle\", \"fluffy\") #➞ [\"flu\", \"ekr\", \"y\"]"
   ]
  },
  {
   "cell_type": "code",
   "execution_count": 43,
   "id": "3ca59934",
   "metadata": {},
   "outputs": [
    {
     "data": {
      "text/plain": [
       "['mah', 'tc', '']"
      ]
     },
     "execution_count": 43,
     "metadata": {},
     "output_type": "execute_result"
    }
   ],
   "source": [
    "letters(\"match\", \"ham\") #➞ [\"ahm\", \"ct\", \"\"]"
   ]
  },
  {
   "cell_type": "markdown",
   "id": "089b96dc",
   "metadata": {},
   "source": [
    "### 3. Write a function that pairs the first number in an array with the last, the second number with the second to last, etc.\n",
    "\n",
    "Examples\n",
    "\n",
    "pairs([1, 2, 3, 4, 5, 6, 7]) ➞ [[1, 7], [2, 6], [3, 5], [4, 4]]\n",
    "\n",
    "pairs([1, 2, 3, 4, 5, 6]) ➞ [[1, 6], [2, 5], [3, 4]]\n",
    "\n",
    "pairs([5, 9, 8, 1, 2]) ➞ [[5, 2], [9, 1], [8, 8]]\n",
    "\n",
    "pairs([]) ➞ []\n"
   ]
  },
  {
   "cell_type": "code",
   "execution_count": 68,
   "id": "2325aacc",
   "metadata": {},
   "outputs": [],
   "source": [
    "import numpy as np\n",
    "def pairs(lst):\n",
    "    new_lst=[]\n",
    "    for i in range(int(np.ceil(len(lst)/2))):\n",
    "        new_lst.append([lst[i],lst[-i-1]])\n",
    "    return new_lst"
   ]
  },
  {
   "cell_type": "code",
   "execution_count": 69,
   "id": "26cf7065",
   "metadata": {},
   "outputs": [
    {
     "data": {
      "text/plain": [
       "[[1, 7], [2, 6], [3, 5], [4, 4]]"
      ]
     },
     "execution_count": 69,
     "metadata": {},
     "output_type": "execute_result"
    }
   ],
   "source": [
    "pairs([1, 2, 3, 4, 5, 6, 7]) #➞ [[1, 7], [2, 6], [3, 5], [4, 4]]"
   ]
  },
  {
   "cell_type": "code",
   "execution_count": 70,
   "id": "7ed28e10",
   "metadata": {},
   "outputs": [
    {
     "data": {
      "text/plain": [
       "[[1, 6], [2, 5], [3, 4]]"
      ]
     },
     "execution_count": 70,
     "metadata": {},
     "output_type": "execute_result"
    }
   ],
   "source": [
    "pairs([1, 2, 3, 4, 5, 6]) #➞ [[1, 6], [2, 5], [3, 4]]"
   ]
  },
  {
   "cell_type": "code",
   "execution_count": 71,
   "id": "658dd583",
   "metadata": {},
   "outputs": [
    {
     "data": {
      "text/plain": [
       "[[5, 2], [9, 1], [8, 8]]"
      ]
     },
     "execution_count": 71,
     "metadata": {},
     "output_type": "execute_result"
    }
   ],
   "source": [
    "pairs([5, 9, 8, 1, 2]) #➞ [[5, 2], [9, 1], [8, 8]]"
   ]
  },
  {
   "cell_type": "code",
   "execution_count": 72,
   "id": "5e66954f",
   "metadata": {},
   "outputs": [
    {
     "data": {
      "text/plain": [
       "[]"
      ]
     },
     "execution_count": 72,
     "metadata": {},
     "output_type": "execute_result"
    }
   ],
   "source": [
    "pairs([]) #➞ []"
   ]
  },
  {
   "cell_type": "markdown",
   "id": "a7570a93",
   "metadata": {},
   "source": [
    "### 4. Write a function that adds two numbers. The catch, however, is that the numbers will be strings.\n",
    "\n",
    "Examples\n",
    "\n",
    "add_str_nums(\"4\", \"5\") ➞ \"9\"\n",
    "\n",
    "add_str_nums(\"abcdefg\", \"3\") ➞ \"-1\"\n",
    "\n",
    "add_str_nums(\"1\", \"\") ➞ \"1\"\n",
    "\n",
    "add_str_nums(\"1874682736267235927359283579235789257\", \"32652983572985729\") ➞ \"1874682736267235927391936562808774986\"\n"
   ]
  },
  {
   "cell_type": "code",
   "execution_count": 73,
   "id": "b53aa66a",
   "metadata": {},
   "outputs": [],
   "source": [
    "def add_str_nums(str1,str2):\n",
    "    try:\n",
    "        return int(str1)+int(str2)\n",
    "    except:\n",
    "        return -1"
   ]
  },
  {
   "cell_type": "code",
   "execution_count": 74,
   "id": "a48506ed",
   "metadata": {},
   "outputs": [
    {
     "data": {
      "text/plain": [
       "9"
      ]
     },
     "execution_count": 74,
     "metadata": {},
     "output_type": "execute_result"
    }
   ],
   "source": [
    "add_str_nums(\"4\", \"5\") #➞ \"9\""
   ]
  },
  {
   "cell_type": "code",
   "execution_count": 75,
   "id": "b271cf99",
   "metadata": {},
   "outputs": [
    {
     "data": {
      "text/plain": [
       "-1"
      ]
     },
     "execution_count": 75,
     "metadata": {},
     "output_type": "execute_result"
    }
   ],
   "source": [
    "add_str_nums(\"abcdefg\", \"3\") #➞ \"-1\""
   ]
  },
  {
   "cell_type": "code",
   "execution_count": 76,
   "id": "db099477",
   "metadata": {},
   "outputs": [
    {
     "data": {
      "text/plain": [
       "1874682736267235927391936562808774986"
      ]
     },
     "execution_count": 76,
     "metadata": {},
     "output_type": "execute_result"
    }
   ],
   "source": [
    "add_str_nums(\"1874682736267235927359283579235789257\", \"32652983572985729\") #➞ \"1874682736267235927391936562808774986\""
   ]
  },
  {
   "cell_type": "markdown",
   "id": "3986d7bb",
   "metadata": {},
   "source": [
    "### 5. lPaeesh le pemu mnxit ehess rtnisg! Oh, sorry, that was supposed to say: Please help me unmix these strings!\n",
    "\n",
    "Somehow my strings have all become mixed up; every pair of characters has been swapped. Help me undo this so I can understand my strings again.\n",
    "\n",
    "Examples\n",
    "\n",
    "unmix(\"123456\") ➞ \"214365\"\n",
    "\n",
    "unmix(\"hTsii  s aimex dpus rtni.g\") ➞ \"This is a mixed up string.\"\n",
    "\n",
    "unmix(\"badce\") ➞ \"abcde\"\n",
    "\n"
   ]
  },
  {
   "cell_type": "code",
   "execution_count": 103,
   "id": "bd0af2cf",
   "metadata": {},
   "outputs": [],
   "source": [
    "def unmix(string):\n",
    "    new_string=''\n",
    "    if len(string)%2==0:\n",
    "        for i in range(len(string)):\n",
    "            if i%2==0:\n",
    "                new_string+=string[i+1]\n",
    "            else:\n",
    "                new_string+=string[i-1]\n",
    "    else:\n",
    "        for i in range(len(string)-1):\n",
    "            if i%2==0:\n",
    "                new_string+=string[i+1]\n",
    "            else:\n",
    "                new_string+=string[i-1]\n",
    "                \n",
    "        new_string+=string[len(string)-1]\n",
    "    return new_string"
   ]
  },
  {
   "cell_type": "code",
   "execution_count": 104,
   "id": "7e6ac0e5",
   "metadata": {},
   "outputs": [
    {
     "data": {
      "text/plain": [
       "'214365'"
      ]
     },
     "execution_count": 104,
     "metadata": {},
     "output_type": "execute_result"
    }
   ],
   "source": [
    "unmix(\"123456\") #➞ \"214365\""
   ]
  },
  {
   "cell_type": "code",
   "execution_count": 107,
   "id": "18532ab1",
   "metadata": {},
   "outputs": [
    {
     "data": {
      "text/plain": [
       "'This is a mixed up string.'"
      ]
     },
     "execution_count": 107,
     "metadata": {},
     "output_type": "execute_result"
    }
   ],
   "source": [
    "unmix(\"hTsii  s aimex dpus rtni.g\") #➞ \"This is a mixed up string.\""
   ]
  },
  {
   "cell_type": "code",
   "execution_count": 106,
   "id": "938d8e58",
   "metadata": {},
   "outputs": [
    {
     "data": {
      "text/plain": [
       "'abcde'"
      ]
     },
     "execution_count": 106,
     "metadata": {},
     "output_type": "execute_result"
    }
   ],
   "source": [
    "unmix(\"badce\") #➞ \"abcde\""
   ]
  },
  {
   "cell_type": "code",
   "execution_count": null,
   "id": "7d4dc08a",
   "metadata": {},
   "outputs": [],
   "source": []
  }
 ],
 "metadata": {
  "kernelspec": {
   "display_name": "Python 3",
   "language": "python",
   "name": "python3"
  },
  "language_info": {
   "codemirror_mode": {
    "name": "ipython",
    "version": 3
   },
   "file_extension": ".py",
   "mimetype": "text/x-python",
   "name": "python",
   "nbconvert_exporter": "python",
   "pygments_lexer": "ipython3",
   "version": "3.6.13"
  }
 },
 "nbformat": 4,
 "nbformat_minor": 5
}
