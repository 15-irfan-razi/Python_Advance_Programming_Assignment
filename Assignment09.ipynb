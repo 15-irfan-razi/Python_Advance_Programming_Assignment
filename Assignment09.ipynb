{
 "cells": [
  {
   "cell_type": "markdown",
   "id": "523a3fd0",
   "metadata": {},
   "source": [
    "### 1. YouTube offers different playback speed options for users. This allows users to increase or decrease the speed of the video content. Given the actual duration and playback speed of the video, calculate the playback duration of the video.\n",
    "\n",
    "Examples\n",
    "\n",
    "playback_duration(\"00:30:00\", 2) ➞ \"00:15:00\"\n",
    "\n",
    "playback_duration(\"01:20:00\", 1.5) ➞ \"00:53:20\"\n",
    "\n",
    "playback_duration(\"51:20:09\", 0.5) ➞ \"102:40:18\"\n"
   ]
  },
  {
   "cell_type": "code",
   "execution_count": 14,
   "id": "d749b946",
   "metadata": {},
   "outputs": [],
   "source": [
    "def playback_duration(string,n):\n",
    "    lst=string.split(':')\n",
    "    time_in_seconds=(int(lst[0])*3600) + (int(lst[1])*60) + int(lst[2])\n",
    "    actual_time_seconds=time_in_seconds/n\n",
    "    \n",
    "    #new_string=''\n",
    "    hrs=actual_time_seconds//3600\n",
    "    if actual_time_seconds>3600:\n",
    "        minutes=(actual_time_seconds - hrs*3600)//60\n",
    "    else:\n",
    "        minutes=actual_time_seconds//60\n",
    "        \n",
    "    if actual_time_seconds>60:\n",
    "        seconds= (actual_time_seconds - hrs*3600 - minutes*60)\n",
    "    else:\n",
    "        seconds=actual_time_seconds\n",
    "    \n",
    "    new_string=str(int(hrs))+\":\"+ str(int(minutes))+\":\"+ str(int(seconds))\n",
    "    \n",
    "    return new_string"
   ]
  },
  {
   "cell_type": "code",
   "execution_count": 15,
   "id": "effb2d47",
   "metadata": {},
   "outputs": [
    {
     "data": {
      "text/plain": [
       "'0:15:0'"
      ]
     },
     "execution_count": 15,
     "metadata": {},
     "output_type": "execute_result"
    }
   ],
   "source": [
    "playback_duration(\"00:30:00\", 2) #➞ \"00:15:00\""
   ]
  },
  {
   "cell_type": "code",
   "execution_count": 16,
   "id": "4a688908",
   "metadata": {},
   "outputs": [
    {
     "data": {
      "text/plain": [
       "'0:53:20'"
      ]
     },
     "execution_count": 16,
     "metadata": {},
     "output_type": "execute_result"
    }
   ],
   "source": [
    "playback_duration(\"01:20:00\", 1.5) #➞ \"00:53:20\""
   ]
  },
  {
   "cell_type": "code",
   "execution_count": 17,
   "id": "96cd3139",
   "metadata": {},
   "outputs": [
    {
     "data": {
      "text/plain": [
       "'102:40:18'"
      ]
     },
     "execution_count": 17,
     "metadata": {},
     "output_type": "execute_result"
    }
   ],
   "source": [
    "playback_duration(\"51:20:09\", 0.5) #➞ \"102:40:18\""
   ]
  },
  {
   "cell_type": "markdown",
   "id": "81228831",
   "metadata": {},
   "source": [
    "### 2. We needs your help to construct a building which will be a pile of n cubes. The cube at the bottom will have a volume of n^3, the cube above will have volume of (n-1)^3 and so on until the top which will have a volume of 1^3.\n",
    "\n",
    "Given the total volume m of the building, can you find the number of cubes n required for the building?\n",
    "\n",
    "In other words, you have to return an integer n such that:\n",
    "\n",
    "n^3 + (n-1)^3 + ... + 1^3 == m\n",
    "\n",
    "Return None if there is no such number.\n",
    "\n",
    "Examples\n",
    "\n",
    "pile_of_cubes(1071225) ➞ 45\n",
    "\n",
    "pile_of_cubes(4183059834009) ➞ 2022\n",
    "\n",
    "pile_of_cubes(16) ➞ None\n"
   ]
  },
  {
   "cell_type": "code",
   "execution_count": 20,
   "id": "cacda5e0",
   "metadata": {},
   "outputs": [],
   "source": [
    "def pile_of_cubes(n):\n",
    "    summ=0\n",
    "    i=0\n",
    "    while i<n:\n",
    "        summ+=i**3\n",
    "        if summ<=n:\n",
    "            if summ<n:\n",
    "                i+=1\n",
    "            else:\n",
    "                return i\n",
    "        else:\n",
    "            return 'None'"
   ]
  },
  {
   "cell_type": "code",
   "execution_count": 21,
   "id": "f415e53c",
   "metadata": {},
   "outputs": [
    {
     "data": {
      "text/plain": [
       "45"
      ]
     },
     "execution_count": 21,
     "metadata": {},
     "output_type": "execute_result"
    }
   ],
   "source": [
    "pile_of_cubes(1071225) #➞ 45"
   ]
  },
  {
   "cell_type": "code",
   "execution_count": 22,
   "id": "f9ad78d9",
   "metadata": {},
   "outputs": [
    {
     "data": {
      "text/plain": [
       "2022"
      ]
     },
     "execution_count": 22,
     "metadata": {},
     "output_type": "execute_result"
    }
   ],
   "source": [
    "pile_of_cubes(4183059834009) #➞ 2022"
   ]
  },
  {
   "cell_type": "code",
   "execution_count": 23,
   "id": "7ec3b73b",
   "metadata": {},
   "outputs": [
    {
     "data": {
      "text/plain": [
       "'None'"
      ]
     },
     "execution_count": 23,
     "metadata": {},
     "output_type": "execute_result"
    }
   ],
   "source": [
    "pile_of_cubes(16) #➞ None"
   ]
  },
  {
   "cell_type": "markdown",
   "id": "2644e8de",
   "metadata": {},
   "source": [
    "### 3. A fulcrum of a list is an integer such that all elements to the left of it and all elements to the right of it sum to the same value. Write a function that finds the fulcrum of a list.\n",
    "\n",
    "To illustrate:\n",
    "\n",
    "find_fulcrum([3, 1, 5, 2, 4, 6, -1]) ➞ 2\n",
    "// Since [3, 1, 5] and [4, 6, -1] both sum to 9\n",
    "\n",
    "Examples\n",
    "\n",
    "find_fulcrum([1, 2, 4, 9, 10, -10, -9, 3]) ➞ 4\n",
    "\n",
    "find_fulcrum([9, 1, 9]) ➞ 1\n",
    "\n",
    "find_fulcrum([7, -1, 0, -1, 1, 1, 2, 3]) ➞ 0\n",
    "\n",
    "find_fulcrum([8, 8, 8, 8]) ➞ -1\n"
   ]
  },
  {
   "cell_type": "code",
   "execution_count": 40,
   "id": "20bf7b3c",
   "metadata": {},
   "outputs": [],
   "source": [
    "def find_fulcrum(lst):\n",
    "    \n",
    "    sum_left=[]\n",
    "    sum_right=[]\n",
    "    for i in range(len(lst)-1):\n",
    "        sum_left.append(sum(lst[0:i]))\n",
    "        sum_right.append(sum(lst[i+1:]))\n",
    "    \n",
    "    count=0\n",
    "    for i in range(len(sum_left)):\n",
    "        if sum_left[i]==sum_right[i]:\n",
    "            count+=1\n",
    "            return lst[i]\n",
    "\n",
    "    if count==0:\n",
    "        return -1"
   ]
  },
  {
   "cell_type": "code",
   "execution_count": 41,
   "id": "b41f95b3",
   "metadata": {},
   "outputs": [
    {
     "data": {
      "text/plain": [
       "2"
      ]
     },
     "execution_count": 41,
     "metadata": {},
     "output_type": "execute_result"
    }
   ],
   "source": [
    "find_fulcrum([3, 1, 5, 2, 4, 6, -1]) #➞ 2"
   ]
  },
  {
   "cell_type": "code",
   "execution_count": 42,
   "id": "e27f779c",
   "metadata": {},
   "outputs": [
    {
     "data": {
      "text/plain": [
       "4"
      ]
     },
     "execution_count": 42,
     "metadata": {},
     "output_type": "execute_result"
    }
   ],
   "source": [
    "find_fulcrum([1, 2, 4, 9, 10, -10, -9, 3]) #➞ 4"
   ]
  },
  {
   "cell_type": "code",
   "execution_count": 43,
   "id": "69c3e5d5",
   "metadata": {},
   "outputs": [
    {
     "data": {
      "text/plain": [
       "1"
      ]
     },
     "execution_count": 43,
     "metadata": {},
     "output_type": "execute_result"
    }
   ],
   "source": [
    "find_fulcrum([9, 1, 9]) #➞ 1"
   ]
  },
  {
   "cell_type": "code",
   "execution_count": 44,
   "id": "72d5d3a9",
   "metadata": {},
   "outputs": [
    {
     "data": {
      "text/plain": [
       "0"
      ]
     },
     "execution_count": 44,
     "metadata": {},
     "output_type": "execute_result"
    }
   ],
   "source": [
    "find_fulcrum([7, -1, 0, -1, 1, 1, 2, 3]) #➞ 0"
   ]
  },
  {
   "cell_type": "code",
   "execution_count": 45,
   "id": "26c14bc3",
   "metadata": {},
   "outputs": [
    {
     "data": {
      "text/plain": [
       "-1"
      ]
     },
     "execution_count": 45,
     "metadata": {},
     "output_type": "execute_result"
    }
   ],
   "source": [
    "find_fulcrum([8, 8, 8, 8]) #➞ -1"
   ]
  },
  {
   "cell_type": "markdown",
   "id": "7cffb57c",
   "metadata": {},
   "source": [
    "### 4. Given a list of integers representing the color of each sock, determine how many pairs of socks with matching colors there are. For example, there are 7 socks with colors [1, 2, 1, 2, 1, 3, 2]. There is one pair of color 1 and one of color 2. There are three odd socks left, one of each color. The number of pairs is 2.\n",
    "\n",
    "Create a function that returns an integer representing the number of matching pairs of socks that are available.\n",
    "\n",
    "Examples\n",
    "\n",
    "sock_merchant([10, 20, 20, 10, 10, 30, 50, 10, 20]) ➞ 3\n",
    "\n",
    "sock_merchant([50, 20, 30, 90, 30, 20, 50, 20, 90]) ➞ 4\n",
    "\n",
    "sock_merchant([]) ➞ 0\n"
   ]
  },
  {
   "cell_type": "code",
   "execution_count": 46,
   "id": "161458e2",
   "metadata": {},
   "outputs": [],
   "source": [
    "def sock_merchant(lst):\n",
    "    dct={}\n",
    "    for i in lst:\n",
    "        dct[i]=lst.count(i)\n",
    "        \n",
    "    pairs=0\n",
    "    for i in dct.values():\n",
    "        pairs+=(i//2)\n",
    "    return pairs"
   ]
  },
  {
   "cell_type": "code",
   "execution_count": 47,
   "id": "ae42ac34",
   "metadata": {},
   "outputs": [
    {
     "data": {
      "text/plain": [
       "3"
      ]
     },
     "execution_count": 47,
     "metadata": {},
     "output_type": "execute_result"
    }
   ],
   "source": [
    "sock_merchant([10, 20, 20, 10, 10, 30, 50, 10, 20]) #➞ 3"
   ]
  },
  {
   "cell_type": "code",
   "execution_count": 48,
   "id": "11c15971",
   "metadata": {},
   "outputs": [
    {
     "data": {
      "text/plain": [
       "4"
      ]
     },
     "execution_count": 48,
     "metadata": {},
     "output_type": "execute_result"
    }
   ],
   "source": [
    "sock_merchant([50, 20, 30, 90, 30, 20, 50, 20, 90]) #➞ 4"
   ]
  },
  {
   "cell_type": "code",
   "execution_count": 49,
   "id": "347e7ded",
   "metadata": {},
   "outputs": [
    {
     "data": {
      "text/plain": [
       "0"
      ]
     },
     "execution_count": 49,
     "metadata": {},
     "output_type": "execute_result"
    }
   ],
   "source": [
    "sock_merchant([]) #➞ 0"
   ]
  },
  {
   "cell_type": "markdown",
   "id": "22976358",
   "metadata": {},
   "source": [
    "### 5. Create a function that takes a string containing integers as well as other characters and return the sum of the negative integers only.\n",
    "\n",
    "Examples\n",
    "\n",
    "negative_sum(\"-12 13%14&-11\") ➞ -23\n",
    "# -12 + -11 = -23\n",
    "\n",
    "negative_sum(\"22 13%14&-11-22 13 12\") ➞ -33\n",
    "# -11 + -22 = -33\n"
   ]
  },
  {
   "cell_type": "code",
   "execution_count": 73,
   "id": "b4c8cb31",
   "metadata": {},
   "outputs": [],
   "source": [
    "import re\n",
    "def negative_sum(string):\n",
    "    char='-\\d+'\n",
    "    lst=[]\n",
    "    for i in re.findall(char,string):\n",
    "        lst.append(int(i))\n",
    "    \n",
    "    return sum(lst)"
   ]
  },
  {
   "cell_type": "code",
   "execution_count": 74,
   "id": "19030c9b",
   "metadata": {},
   "outputs": [
    {
     "data": {
      "text/plain": [
       "-23"
      ]
     },
     "execution_count": 74,
     "metadata": {},
     "output_type": "execute_result"
    }
   ],
   "source": [
    "negative_sum(\"-12 13%14&-11\") #➞ -23"
   ]
  },
  {
   "cell_type": "code",
   "execution_count": 75,
   "id": "1575307c",
   "metadata": {},
   "outputs": [
    {
     "data": {
      "text/plain": [
       "-33"
      ]
     },
     "execution_count": 75,
     "metadata": {},
     "output_type": "execute_result"
    }
   ],
   "source": [
    "negative_sum(\"22 13%14&-11-22 13 12\") #➞ -33"
   ]
  }
 ],
 "metadata": {
  "kernelspec": {
   "display_name": "Python 3 (ipykernel)",
   "language": "python",
   "name": "python3"
  },
  "language_info": {
   "codemirror_mode": {
    "name": "ipython",
    "version": 3
   },
   "file_extension": ".py",
   "mimetype": "text/x-python",
   "name": "python",
   "nbconvert_exporter": "python",
   "pygments_lexer": "ipython3",
   "version": "3.9.7"
  }
 },
 "nbformat": 4,
 "nbformat_minor": 5
}
