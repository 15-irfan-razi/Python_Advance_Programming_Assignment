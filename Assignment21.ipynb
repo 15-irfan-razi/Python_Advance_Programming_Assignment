{
 "cells": [
  {
   "cell_type": "markdown",
   "id": "9a97c3f8",
   "metadata": {},
   "source": [
    "### 1. Given a sentence, return the number of words which have the same first and last letter.\n",
    "\n",
    "Examples\n",
    "\n",
    "count_same_ends(\"Pop! goes the balloon\") ➞ 1\n",
    "\n",
    "count_same_ends(\"And the crowd goes wild!\") ➞ 0\n",
    "\n",
    "count_same_ends(\"No I am not in a gang.\") ➞ 1\n"
   ]
  },
  {
   "cell_type": "code",
   "execution_count": 7,
   "id": "048bbb28",
   "metadata": {},
   "outputs": [],
   "source": [
    "def count_same_ends(string):\n",
    "    new=''\n",
    "    for i in string:\n",
    "        if i in '!.':\n",
    "            pass\n",
    "        else:\n",
    "            new+=i.lower()\n",
    "            \n",
    "    lst=new.split(' ')\n",
    "    count=0\n",
    "    for i in range(len(lst)):\n",
    "        if len(lst[i])>1:\n",
    "            if lst[i][0]==lst[i][-1]:\n",
    "                count+=1\n",
    "    return count"
   ]
  },
  {
   "cell_type": "code",
   "execution_count": 8,
   "id": "fedb85e5",
   "metadata": {},
   "outputs": [
    {
     "data": {
      "text/plain": [
       "1"
      ]
     },
     "execution_count": 8,
     "metadata": {},
     "output_type": "execute_result"
    }
   ],
   "source": [
    "count_same_ends(\"Pop! goes the balloon\") #➞ 1"
   ]
  },
  {
   "cell_type": "code",
   "execution_count": 9,
   "id": "4b342a6c",
   "metadata": {},
   "outputs": [
    {
     "data": {
      "text/plain": [
       "0"
      ]
     },
     "execution_count": 9,
     "metadata": {},
     "output_type": "execute_result"
    }
   ],
   "source": [
    "count_same_ends(\"And the crowd goes wild!\") #➞ 0"
   ]
  },
  {
   "cell_type": "code",
   "execution_count": 10,
   "id": "a64a7ba6",
   "metadata": {},
   "outputs": [
    {
     "data": {
      "text/plain": [
       "1"
      ]
     },
     "execution_count": 10,
     "metadata": {},
     "output_type": "execute_result"
    }
   ],
   "source": [
    "count_same_ends(\"No I am not in a gang.\") #➞ 1"
   ]
  },
  {
   "cell_type": "markdown",
   "id": "446f1a33",
   "metadata": {},
   "source": [
    "### 2. The Atbash cipher is an encryption method in which each letter of a word is replaced with its \"mirror\" letter in the alphabet: A <=> Z; B <=> Y; C <=> X; etc.\n",
    "\n",
    "Create a function that takes a string and applies the Atbash cipher to it.\n",
    "\n",
    "Examples\n",
    "\n",
    "atbash(\"apple\") ➞ \"zkkov\"\n",
    "\n",
    "atbash(\"Hello world!\") ➞ \"Svool dliow!\"\n",
    "\n",
    "atbash(\"Christmas is the 25th of December\") ➞ \"Xsirhgnzh rh gsv 25gs lu Wvxvnyvi\"\n"
   ]
  },
  {
   "cell_type": "code",
   "execution_count": 33,
   "id": "cda984ec",
   "metadata": {},
   "outputs": [],
   "source": [
    "def atbash(string):\n",
    "    letters='abcdefghijklmnopqrstuvwxyz'\n",
    "    new=''\n",
    "    for i in string:\n",
    "        if i.islower() or i.isupper():\n",
    "            if i.islower():\n",
    "                index=letters.index(i)\n",
    "                new+=letters[25-index]\n",
    "            elif i.isupper():\n",
    "                index=letters.index(i.lower())\n",
    "                new+=letters[25-index].upper()\n",
    "        else:\n",
    "            new+=i\n",
    "    return new"
   ]
  },
  {
   "cell_type": "code",
   "execution_count": 34,
   "id": "0ea9c15f",
   "metadata": {},
   "outputs": [
    {
     "data": {
      "text/plain": [
       "'zkkov'"
      ]
     },
     "execution_count": 34,
     "metadata": {},
     "output_type": "execute_result"
    }
   ],
   "source": [
    "atbash(\"apple\") #➞ \"zkkov\""
   ]
  },
  {
   "cell_type": "code",
   "execution_count": 35,
   "id": "f9609dba",
   "metadata": {},
   "outputs": [
    {
     "data": {
      "text/plain": [
       "'Svool dliow!'"
      ]
     },
     "execution_count": 35,
     "metadata": {},
     "output_type": "execute_result"
    }
   ],
   "source": [
    "atbash(\"Hello world!\") #➞ \"Svool dliow!\""
   ]
  },
  {
   "cell_type": "code",
   "execution_count": 36,
   "id": "5e0af1dd",
   "metadata": {},
   "outputs": [
    {
     "data": {
      "text/plain": [
       "'Xsirhgnzh rh gsv 25gs lu Wvxvnyvi'"
      ]
     },
     "execution_count": 36,
     "metadata": {},
     "output_type": "execute_result"
    }
   ],
   "source": [
    "atbash(\"Christmas is the 25th of December\") #➞ \"Xsirhgnzh rh gsv 25gs lu Wvxvnyvi\""
   ]
  },
  {
   "cell_type": "markdown",
   "id": "b433b4f4",
   "metadata": {},
   "source": [
    "### 3. Create a class Employee that will take a full name as argument, as well as a set of none, one or more keywords. Each instance should have a name and a lastname attributes plus one more attribute for each of the keywords, if any.\n",
    "\n",
    "Examples\n",
    "\n",
    "john = Employee(\"John Doe\")\n",
    "mary = Employee(\"Mary Major\", salary=120000)\n",
    "richard = Employee(\"Richard Roe\", salary=110000, height=178)\n",
    "giancarlo = Employee(\"Giancarlo Rossi\", salary=115000, height=182, nationality=\"Italian\")\n",
    "\n",
    "john.name ➞ \"John\"\n",
    "mary.lastname ➞ \"Major\"\n",
    "richard.height ➞ 178\n",
    "giancarlo.nationality ➞ \"Italian\"\n"
   ]
  },
  {
   "cell_type": "code",
   "execution_count": 73,
   "id": "dd929ac3",
   "metadata": {},
   "outputs": [],
   "source": [
    "class Employee:\n",
    "    def __init__(self, fullname, **kwargs):\n",
    "        self.name=fullname.split(' ')[0]\n",
    "        self.lastname=fullname.split(' ')[1]\n",
    "        for k in kwargs.keys():\n",
    "            self.__setattr__(k, kwargs[k])"
   ]
  },
  {
   "cell_type": "code",
   "execution_count": 74,
   "id": "b33ac545",
   "metadata": {},
   "outputs": [],
   "source": [
    "john = Employee(\"John Doe\")\n",
    "mary = Employee(\"Mary Major\", salary=120000)\n",
    "richard = Employee(\"Richard Roe\", salary=110000, height=178)\n",
    "giancarlo = Employee(\"Giancarlo Rossi\", salary=115000, height=182, nationality=\"Italian\")"
   ]
  },
  {
   "cell_type": "code",
   "execution_count": 75,
   "id": "19f64b55",
   "metadata": {},
   "outputs": [
    {
     "data": {
      "text/plain": [
       "'John'"
      ]
     },
     "execution_count": 75,
     "metadata": {},
     "output_type": "execute_result"
    }
   ],
   "source": [
    "john.name #➞ \"John\""
   ]
  },
  {
   "cell_type": "code",
   "execution_count": 76,
   "id": "0af939da",
   "metadata": {},
   "outputs": [
    {
     "data": {
      "text/plain": [
       "'Major'"
      ]
     },
     "execution_count": 76,
     "metadata": {},
     "output_type": "execute_result"
    }
   ],
   "source": [
    "mary.lastname #➞ \"Major\""
   ]
  },
  {
   "cell_type": "code",
   "execution_count": 77,
   "id": "611887d7",
   "metadata": {},
   "outputs": [
    {
     "data": {
      "text/plain": [
       "178"
      ]
     },
     "execution_count": 77,
     "metadata": {},
     "output_type": "execute_result"
    }
   ],
   "source": [
    "richard.height #➞ 178"
   ]
  },
  {
   "cell_type": "code",
   "execution_count": 78,
   "id": "59fc5274",
   "metadata": {},
   "outputs": [
    {
     "data": {
      "text/plain": [
       "'Italian'"
      ]
     },
     "execution_count": 78,
     "metadata": {},
     "output_type": "execute_result"
    }
   ],
   "source": [
    "giancarlo.nationality #➞ \"Italian\""
   ]
  },
  {
   "cell_type": "markdown",
   "id": "b1949dba",
   "metadata": {},
   "source": [
    "### 4. Create a function that determines whether each seat can \"see\" the front-stage. A number can \"see\" the front-stage if it is strictly greater than the number before it.\n",
    "\n",
    "Everyone can see the front-stage in the example below:\n",
    "\n",
    "# FRONT STAGE\n",
    "[[1, 2, 3, 2, 1, 1],\n",
    "[2, 4, 4, 3, 2, 2],\n",
    "[5, 5, 5, 5, 4, 4],\n",
    "[6, 6, 7, 6, 5, 5]]\n",
    "\n",
    "# Starting from the left, the 6 > 5 > 2 > 1, so all numbers can see.\n",
    "# 6 > 5 > 4 > 2 - so all numbers can see, etc.\n",
    "\n",
    "Not everyone can see the front-stage in the example below:\n",
    "\n",
    "# FRONT STAGE\n",
    "[[1, 2, 3, 2, 1, 1], \n",
    "[2, 4, 4, 3, 2, 2], \n",
    "[5, 5, 5, 10, 4, 4], \n",
    "[6, 6, 7, 6, 5, 5]]\n",
    "\n",
    "# The 10 is directly in front of the 6 and blocking its view.\n",
    "\n",
    "The function should return True if every number can see the front-stage, and False if even a single number cannot.\n",
    "\n",
    "Examples\n",
    "\n",
    "can_see_stage([\n",
    "  [1, 2, 3],\n",
    "  [4, 5, 6],\n",
    "  [7, 8, 9]\n",
    "]) ➞ True\n",
    "\n",
    "can_see_stage([\n",
    "  [0, 0, 0],\n",
    "  [1, 1, 1],\n",
    "  [2, 2, 2]\n",
    "]) ➞ True\n",
    "\n",
    "can_see_stage([\n",
    "  [2, 0, 0], \n",
    "  [1, 1, 1], \n",
    "  [2, 2, 2]\n",
    "]) ➞ False\n",
    "\n",
    "can_see_stage([\n",
    "  [1, 0, 0],\n",
    "  [1, 1, 1],\n",
    "  [2, 2, 2]\n",
    "]) ➞ False\n",
    "\n",
    "# Number must be strictly smaller than \n",
    "# the number directly behind it.\n"
   ]
  },
  {
   "cell_type": "code",
   "execution_count": 95,
   "id": "935b87bf",
   "metadata": {},
   "outputs": [],
   "source": [
    "def can_see_stage(lst):\n",
    "    lst_check=lst[-1]\n",
    "    check=[]\n",
    "    for i in range(len(lst_check)):\n",
    "        count=0\n",
    "        for j in range(len(lst)-1):\n",
    "            try:\n",
    "                if lst_check[i]>lst[j][i] and lst[j+1][i]>lst[j][i]:\n",
    "                    count+=1\n",
    "                else:\n",
    "                    return False\n",
    "            except:\n",
    "                pass\n",
    "        check.append(count)\n",
    "    if sum(check)==len(lst)*2:\n",
    "        return True"
   ]
  },
  {
   "cell_type": "code",
   "execution_count": 96,
   "id": "7d590feb",
   "metadata": {},
   "outputs": [
    {
     "data": {
      "text/plain": [
       "True"
      ]
     },
     "execution_count": 96,
     "metadata": {},
     "output_type": "execute_result"
    }
   ],
   "source": [
    "can_see_stage([ [1, 2, 3], [4, 5, 6], [7, 8, 9] ]) #➞ True"
   ]
  },
  {
   "cell_type": "code",
   "execution_count": 97,
   "id": "6d031178",
   "metadata": {},
   "outputs": [
    {
     "data": {
      "text/plain": [
       "True"
      ]
     },
     "execution_count": 97,
     "metadata": {},
     "output_type": "execute_result"
    }
   ],
   "source": [
    "can_see_stage([ [0, 0, 0], [1, 1, 1], [2, 2, 2] ]) #➞ True"
   ]
  },
  {
   "cell_type": "code",
   "execution_count": 98,
   "id": "e3e20e96",
   "metadata": {},
   "outputs": [
    {
     "data": {
      "text/plain": [
       "False"
      ]
     },
     "execution_count": 98,
     "metadata": {},
     "output_type": "execute_result"
    }
   ],
   "source": [
    "can_see_stage([ [2, 0, 0], [1, 1, 1], [2, 2, 2] ]) #➞ False"
   ]
  },
  {
   "cell_type": "code",
   "execution_count": 99,
   "id": "773be94c",
   "metadata": {},
   "outputs": [
    {
     "data": {
      "text/plain": [
       "False"
      ]
     },
     "execution_count": 99,
     "metadata": {},
     "output_type": "execute_result"
    }
   ],
   "source": [
    "can_see_stage([ [1, 0, 0], [1, 1, 1], [2, 2, 2] ]) #➞ False"
   ]
  },
  {
   "cell_type": "markdown",
   "id": "a1df9eb0",
   "metadata": {},
   "source": [
    "### 5. Create a Pizza class with the attributes order_number and ingredients (which is given as a list). Only the ingredients will be given as input.\n",
    "\n",
    "You should also make it so that its possible to choose a ready made pizza flavour rather than typing out the ingredients manually! As well as creating this Pizza class, hard-code the following pizza flavours.\n",
    "\n",
    "Name\t                    Ingredients\n",
    "hawaiian\t          ham, pineapple\n",
    "meat_festival\tbeef, meatball, bacon\n",
    "garden_feast\tspinach, olives, mushroom\n",
    "\n",
    "Examples\n",
    "\n",
    "p1 = Pizza([\"bacon\", \"parmesan\", \"ham\"])    # order 1\n",
    "p2 = Pizza.garden_feast()                  # order 2\n",
    "\n",
    "p1.ingredients ➞ [\"bacon\", \"parmesan\", \"ham\"]\n",
    "\n",
    "p2.ingredients ➞ [\"spinach\", \"olives\", \"mushroom\"]\n",
    "\n",
    "p1.order_number ➞ 1\n",
    "\n",
    "p2.order_number ➞ 2\n"
   ]
  },
  {
   "cell_type": "code",
   "execution_count": 100,
   "id": "c9b11c05",
   "metadata": {},
   "outputs": [],
   "source": [
    "class Pizza:\n",
    "    count = 0\n",
    "    \n",
    "    def __init__(self,ingredients=None):\n",
    "        self.ingredients = ingredients\n",
    "        self.order_number = Pizza.count+1\n",
    "        Pizza.count = self.order_number\n",
    "        \n",
    "    def hawaiian(self):\n",
    "        self.ingredients = ['ham', 'pineapple']\n",
    "        \n",
    "    def meat_festival(self):\n",
    "        self.ingredients = ['beef', 'meatball', 'bacon']\n",
    "        \n",
    "    def garden_feast(self):\n",
    "        self.ingredients = ['spinach', 'olives', 'mushroom']"
   ]
  },
  {
   "cell_type": "code",
   "execution_count": 101,
   "id": "51b721dd",
   "metadata": {},
   "outputs": [],
   "source": [
    "p1 = Pizza([\"bacon\", \"parmesan\", \"ham\"])\n",
    "p2 = Pizza()\n",
    "p2.garden_feast()"
   ]
  },
  {
   "cell_type": "code",
   "execution_count": 102,
   "id": "e898b7bb",
   "metadata": {},
   "outputs": [
    {
     "data": {
      "text/plain": [
       "['bacon', 'parmesan', 'ham']"
      ]
     },
     "execution_count": 102,
     "metadata": {},
     "output_type": "execute_result"
    }
   ],
   "source": [
    "p1.ingredients #➞ [\"bacon\", \"parmesan\", \"ham\"]"
   ]
  },
  {
   "cell_type": "code",
   "execution_count": 103,
   "id": "6d5bcb04",
   "metadata": {},
   "outputs": [
    {
     "data": {
      "text/plain": [
       "['spinach', 'olives', 'mushroom']"
      ]
     },
     "execution_count": 103,
     "metadata": {},
     "output_type": "execute_result"
    }
   ],
   "source": [
    "p2.ingredients #➞ [\"spinach\", \"olives\", \"mushroom\"]"
   ]
  },
  {
   "cell_type": "code",
   "execution_count": 104,
   "id": "0e1235f7",
   "metadata": {},
   "outputs": [
    {
     "data": {
      "text/plain": [
       "1"
      ]
     },
     "execution_count": 104,
     "metadata": {},
     "output_type": "execute_result"
    }
   ],
   "source": [
    "p1.order_number #➞ 1"
   ]
  },
  {
   "cell_type": "code",
   "execution_count": 105,
   "id": "f726ae7c",
   "metadata": {},
   "outputs": [
    {
     "data": {
      "text/plain": [
       "2"
      ]
     },
     "execution_count": 105,
     "metadata": {},
     "output_type": "execute_result"
    }
   ],
   "source": [
    "p2.order_number #➞ 2"
   ]
  },
  {
   "cell_type": "code",
   "execution_count": null,
   "id": "2d33fe90",
   "metadata": {},
   "outputs": [],
   "source": []
  }
 ],
 "metadata": {
  "kernelspec": {
   "display_name": "Python 3 (ipykernel)",
   "language": "python",
   "name": "python3"
  },
  "language_info": {
   "codemirror_mode": {
    "name": "ipython",
    "version": 3
   },
   "file_extension": ".py",
   "mimetype": "text/x-python",
   "name": "python",
   "nbconvert_exporter": "python",
   "pygments_lexer": "ipython3",
   "version": "3.9.7"
  }
 },
 "nbformat": 4,
 "nbformat_minor": 5
}
